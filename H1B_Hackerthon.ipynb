{
 "cells": [
  {
   "cell_type": "markdown",
   "metadata": {},
   "source": [
    "# Social hackathon: Visualize and predicting H1B acceptance\n",
    "The dataset is H1B data from Kaggle, spanning from 2011 to 2016. We retained only CERTIFIED and DENIED cases, since these are the two major types and easiest to intepret. This dataset is combined with census data to calculate the fractions of H1B in total population of each state. \n",
    "\n",
    "The first part is EDA with geographic maps illustrate the distribution of most common jobs  that get accepted/denied accross states (normalized to each state population).\n",
    "\n",
    "The second part is a classification model to predict the likelihood of getting accepted/rejected for certain H1B case. Due to the extreme balance of  certified vs. denied classes, we upsampled the minority (denied) class. However the AUC is still low (0.59) and there is still room for improvement. Feature importance suggested that wage is the most crucial feature affecting the acceptance decision.\n"
   ]
  },
  {
   "cell_type": "code",
   "execution_count": 2,
   "metadata": {
    "collapsed": true
   },
   "outputs": [],
   "source": [
    "import csv\n",
    "import pandas as pd\n",
    "import numpy as np\n",
    "import matplotlib.pyplot as plt\n",
    "import seaborn as sns\n",
    "%matplotlib inline"
   ]
  },
  {
   "cell_type": "code",
   "execution_count": 3,
   "metadata": {},
   "outputs": [],
   "source": [
    "import plotly.plotly as py\n",
    "import plotly.graph_objs as go \n",
    "from plotly.offline import download_plotlyjs, init_notebook_mode, plot, iplot\n",
    "init_notebook_mode(connected=True) "
   ]
  },
  {
   "cell_type": "markdown",
   "metadata": {},
   "source": [
    "## EDA"
   ]
  },
  {
   "cell_type": "code",
   "execution_count": 5,
   "metadata": {
    "collapsed": true
   },
   "outputs": [],
   "source": [
    "# Import kaggle data set\n",
    "df = pd.read_csv('h1b_kaggle.csv')"
   ]
  },
  {
   "cell_type": "code",
   "execution_count": 3,
   "metadata": {},
   "outputs": [
    {
     "data": {
      "text/html": [
       "<div>\n",
       "<style>\n",
       "    .dataframe thead tr:only-child th {\n",
       "        text-align: right;\n",
       "    }\n",
       "\n",
       "    .dataframe thead th {\n",
       "        text-align: left;\n",
       "    }\n",
       "\n",
       "    .dataframe tbody tr th {\n",
       "        vertical-align: top;\n",
       "    }\n",
       "</style>\n",
       "<table border=\"1\" class=\"dataframe\">\n",
       "  <thead>\n",
       "    <tr style=\"text-align: right;\">\n",
       "      <th></th>\n",
       "      <th>Unnamed: 0</th>\n",
       "      <th>CASE_STATUS</th>\n",
       "      <th>EMPLOYER_NAME</th>\n",
       "      <th>SOC_NAME</th>\n",
       "      <th>JOB_TITLE</th>\n",
       "      <th>FULL_TIME_POSITION</th>\n",
       "      <th>PREVAILING_WAGE</th>\n",
       "      <th>YEAR</th>\n",
       "      <th>WORKSITE</th>\n",
       "      <th>lon</th>\n",
       "      <th>lat</th>\n",
       "    </tr>\n",
       "  </thead>\n",
       "  <tbody>\n",
       "    <tr>\n",
       "      <th>0</th>\n",
       "      <td>1</td>\n",
       "      <td>CERTIFIED-WITHDRAWN</td>\n",
       "      <td>UNIVERSITY OF MICHIGAN</td>\n",
       "      <td>BIOCHEMISTS AND BIOPHYSICISTS</td>\n",
       "      <td>POSTDOCTORAL RESEARCH FELLOW</td>\n",
       "      <td>N</td>\n",
       "      <td>36067.0</td>\n",
       "      <td>2016.0</td>\n",
       "      <td>ANN ARBOR, MICHIGAN</td>\n",
       "      <td>-83.743038</td>\n",
       "      <td>42.280826</td>\n",
       "    </tr>\n",
       "    <tr>\n",
       "      <th>1</th>\n",
       "      <td>2</td>\n",
       "      <td>CERTIFIED-WITHDRAWN</td>\n",
       "      <td>GOODMAN NETWORKS, INC.</td>\n",
       "      <td>CHIEF EXECUTIVES</td>\n",
       "      <td>CHIEF OPERATING OFFICER</td>\n",
       "      <td>Y</td>\n",
       "      <td>242674.0</td>\n",
       "      <td>2016.0</td>\n",
       "      <td>PLANO, TEXAS</td>\n",
       "      <td>-96.698886</td>\n",
       "      <td>33.019843</td>\n",
       "    </tr>\n",
       "    <tr>\n",
       "      <th>2</th>\n",
       "      <td>3</td>\n",
       "      <td>CERTIFIED-WITHDRAWN</td>\n",
       "      <td>PORTS AMERICA GROUP, INC.</td>\n",
       "      <td>CHIEF EXECUTIVES</td>\n",
       "      <td>CHIEF PROCESS OFFICER</td>\n",
       "      <td>Y</td>\n",
       "      <td>193066.0</td>\n",
       "      <td>2016.0</td>\n",
       "      <td>JERSEY CITY, NEW JERSEY</td>\n",
       "      <td>-74.077642</td>\n",
       "      <td>40.728158</td>\n",
       "    </tr>\n",
       "    <tr>\n",
       "      <th>3</th>\n",
       "      <td>4</td>\n",
       "      <td>CERTIFIED-WITHDRAWN</td>\n",
       "      <td>GATES CORPORATION, A WHOLLY-OWNED SUBSIDIARY O...</td>\n",
       "      <td>CHIEF EXECUTIVES</td>\n",
       "      <td>REGIONAL PRESIDEN, AMERICAS</td>\n",
       "      <td>Y</td>\n",
       "      <td>220314.0</td>\n",
       "      <td>2016.0</td>\n",
       "      <td>DENVER, COLORADO</td>\n",
       "      <td>-104.990251</td>\n",
       "      <td>39.739236</td>\n",
       "    </tr>\n",
       "    <tr>\n",
       "      <th>4</th>\n",
       "      <td>5</td>\n",
       "      <td>WITHDRAWN</td>\n",
       "      <td>PEABODY INVESTMENTS CORP.</td>\n",
       "      <td>CHIEF EXECUTIVES</td>\n",
       "      <td>PRESIDENT MONGOLIA AND INDIA</td>\n",
       "      <td>Y</td>\n",
       "      <td>157518.4</td>\n",
       "      <td>2016.0</td>\n",
       "      <td>ST. LOUIS, MISSOURI</td>\n",
       "      <td>-90.199404</td>\n",
       "      <td>38.627003</td>\n",
       "    </tr>\n",
       "  </tbody>\n",
       "</table>\n",
       "</div>"
      ],
      "text/plain": [
       "   Unnamed: 0          CASE_STATUS  \\\n",
       "0           1  CERTIFIED-WITHDRAWN   \n",
       "1           2  CERTIFIED-WITHDRAWN   \n",
       "2           3  CERTIFIED-WITHDRAWN   \n",
       "3           4  CERTIFIED-WITHDRAWN   \n",
       "4           5            WITHDRAWN   \n",
       "\n",
       "                                       EMPLOYER_NAME  \\\n",
       "0                             UNIVERSITY OF MICHIGAN   \n",
       "1                             GOODMAN NETWORKS, INC.   \n",
       "2                          PORTS AMERICA GROUP, INC.   \n",
       "3  GATES CORPORATION, A WHOLLY-OWNED SUBSIDIARY O...   \n",
       "4                          PEABODY INVESTMENTS CORP.   \n",
       "\n",
       "                        SOC_NAME                     JOB_TITLE  \\\n",
       "0  BIOCHEMISTS AND BIOPHYSICISTS  POSTDOCTORAL RESEARCH FELLOW   \n",
       "1               CHIEF EXECUTIVES       CHIEF OPERATING OFFICER   \n",
       "2               CHIEF EXECUTIVES         CHIEF PROCESS OFFICER   \n",
       "3               CHIEF EXECUTIVES   REGIONAL PRESIDEN, AMERICAS   \n",
       "4               CHIEF EXECUTIVES  PRESIDENT MONGOLIA AND INDIA   \n",
       "\n",
       "  FULL_TIME_POSITION  PREVAILING_WAGE    YEAR                 WORKSITE  \\\n",
       "0                  N          36067.0  2016.0      ANN ARBOR, MICHIGAN   \n",
       "1                  Y         242674.0  2016.0             PLANO, TEXAS   \n",
       "2                  Y         193066.0  2016.0  JERSEY CITY, NEW JERSEY   \n",
       "3                  Y         220314.0  2016.0         DENVER, COLORADO   \n",
       "4                  Y         157518.4  2016.0      ST. LOUIS, MISSOURI   \n",
       "\n",
       "          lon        lat  \n",
       "0  -83.743038  42.280826  \n",
       "1  -96.698886  33.019843  \n",
       "2  -74.077642  40.728158  \n",
       "3 -104.990251  39.739236  \n",
       "4  -90.199404  38.627003  "
      ]
     },
     "execution_count": 3,
     "metadata": {},
     "output_type": "execute_result"
    }
   ],
   "source": [
    "df.head()"
   ]
  },
  {
   "cell_type": "code",
   "execution_count": 5,
   "metadata": {},
   "outputs": [
    {
     "name": "stdout",
     "output_type": "stream",
     "text": [
      "<class 'pandas.core.frame.DataFrame'>\n",
      "RangeIndex: 3002458 entries, 0 to 3002457\n",
      "Data columns (total 11 columns):\n",
      "Unnamed: 0            int64\n",
      "CASE_STATUS           object\n",
      "EMPLOYER_NAME         object\n",
      "SOC_NAME              object\n",
      "JOB_TITLE             object\n",
      "FULL_TIME_POSITION    object\n",
      "PREVAILING_WAGE       float64\n",
      "YEAR                  float64\n",
      "WORKSITE              object\n",
      "lon                   float64\n",
      "lat                   float64\n",
      "dtypes: float64(4), int64(1), object(6)\n",
      "memory usage: 252.0+ MB\n"
     ]
    }
   ],
   "source": [
    "df.info()"
   ]
  },
  {
   "cell_type": "code",
   "execution_count": 6,
   "metadata": {
    "collapsed": true
   },
   "outputs": [],
   "source": [
    "# Subset the data to get Accepted and Denied cases only\n",
    "sub_df = df[df['CASE_STATUS'].isin(['CERTIFIED','DENIED'])]"
   ]
  },
  {
   "cell_type": "code",
   "execution_count": 7,
   "metadata": {},
   "outputs": [
    {
     "name": "stdout",
     "output_type": "stream",
     "text": [
      "<class 'pandas.core.frame.DataFrame'>\n",
      "Int64Index: 2709969 entries, 18 to 3002392\n",
      "Data columns (total 11 columns):\n",
      "Unnamed: 0            int64\n",
      "CASE_STATUS           object\n",
      "EMPLOYER_NAME         object\n",
      "SOC_NAME              object\n",
      "JOB_TITLE             object\n",
      "FULL_TIME_POSITION    object\n",
      "PREVAILING_WAGE       float64\n",
      "YEAR                  float64\n",
      "WORKSITE              object\n",
      "lon                   float64\n",
      "lat                   float64\n",
      "dtypes: float64(4), int64(1), object(6)\n",
      "memory usage: 248.1+ MB\n"
     ]
    }
   ],
   "source": [
    "sub_df.info()"
   ]
  },
  {
   "cell_type": "code",
   "execution_count": 8,
   "metadata": {
    "collapsed": true
   },
   "outputs": [],
   "source": [
    "#Function to count unique values of each column in the data set\n",
    "def count_unique(df,col):\n",
    "    return df[col].value_counts()"
   ]
  },
  {
   "cell_type": "code",
   "execution_count": 36,
   "metadata": {},
   "outputs": [
    {
     "name": "stdout",
     "output_type": "stream",
     "text": [
      "Case Status \n",
      " CERTIFIED    2615623\n",
      "DENIED         94346\n",
      "Name: CASE_STATUS, dtype: int64\n",
      "\n",
      "\n",
      "Job Title \n",
      " PROGRAMMER ANALYST     226313\n",
      "SOFTWARE ENGINEER      105315\n",
      "COMPUTER PROGRAMMER     65399\n",
      "SYSTEMS ANALYST         56652\n",
      "SOFTWARE DEVELOPER      38745\n",
      "Name: JOB_TITLE, dtype: int64\n"
     ]
    }
   ],
   "source": [
    "print('Case Status','\\n', count_unique(sub_df,'CASE_STATUS').head(5))\n",
    "print('\\n')\n",
    "print('Job Title','\\n', count_unique(sub_df,'JOB_TITLE').head(5))"
   ]
  },
  {
   "cell_type": "code",
   "execution_count": 6,
   "metadata": {
    "collapsed": true
   },
   "outputs": [],
   "source": [
    "def hist_plot(df,col,bins):\n",
    "    plt.figure(figsize=(8,6))\n",
    "    df[df['CASE_STATUS']=='CERTIFIED'][col].hist(alpha=0.5,color='red',\n",
    "                                              bins=bins,label='approved')\n",
    "    df[df['CASE_STATUS']=='DENIED'][col].hist(alpha=0.7,color='blue',bins=bins,label='denied')\n",
    "    plt.legend(['approved','denied'])\n",
    "    plt.xlabel(col)\n",
    "    print('Average %s of converted users is' %col, round(df[df['CASE_STATUS']=='CERTIFIED'][col].mean(),1))\n",
    "    print('Average %s of non-converted users is' %col,round(df[df['CASE_STATUS']=='DENIED'][col].mean(),1))\n"
   ]
  },
  {
   "cell_type": "code",
   "execution_count": 7,
   "metadata": {
    "collapsed": true
   },
   "outputs": [],
   "source": [
    "def boxplot(df,col):\n",
    "    \n",
    "    data_to_plot = [df[df['CASE_STATUS']=='CERTIFIED'][col],df[df['CASE_STATUS']=='DENIED'][col]]\n",
    "    # Create a figure instance\n",
    "    fig = plt.figure(figsize=(9, 6))\n",
    "    # Create an axes instance\n",
    "    ax = fig.add_subplot(111)\n",
    "    # Create the boxplot\n",
    "    ax.boxplot(data_to_plot)\n",
    "    ax.set_xticklabels(['approved','denied'],fontsize=14)\n",
    "    plt.ylabel(col,fontsize=14)"
   ]
  },
  {
   "cell_type": "code",
   "execution_count": 9,
   "metadata": {},
   "outputs": [
    {
     "name": "stderr",
     "output_type": "stream",
     "text": [
      "/Users/uyennguyen/anaconda3/lib/python3.6/site-packages/ipykernel_launcher.py:1: SettingWithCopyWarning:\n",
      "\n",
      "\n",
      "A value is trying to be set on a copy of a slice from a DataFrame.\n",
      "Try using .loc[row_indexer,col_indexer] = value instead\n",
      "\n",
      "See the caveats in the documentation: http://pandas.pydata.org/pandas-docs/stable/indexing.html#indexing-view-versus-copy\n",
      "\n"
     ]
    }
   ],
   "source": [
    "# Create a State column from Worksite \n",
    "sub_df['STATE'] = sub_df['WORKSITE'].apply(lambda x:x.split(',')[1])"
   ]
  },
  {
   "cell_type": "code",
   "execution_count": 10,
   "metadata": {},
   "outputs": [
    {
     "data": {
      "text/html": [
       "<div>\n",
       "<style>\n",
       "    .dataframe thead tr:only-child th {\n",
       "        text-align: right;\n",
       "    }\n",
       "\n",
       "    .dataframe thead th {\n",
       "        text-align: left;\n",
       "    }\n",
       "\n",
       "    .dataframe tbody tr th {\n",
       "        vertical-align: top;\n",
       "    }\n",
       "</style>\n",
       "<table border=\"1\" class=\"dataframe\">\n",
       "  <thead>\n",
       "    <tr style=\"text-align: right;\">\n",
       "      <th></th>\n",
       "      <th>Unnamed: 0</th>\n",
       "      <th>CASE_STATUS</th>\n",
       "      <th>EMPLOYER_NAME</th>\n",
       "      <th>SOC_NAME</th>\n",
       "      <th>JOB_TITLE</th>\n",
       "      <th>FULL_TIME_POSITION</th>\n",
       "      <th>PREVAILING_WAGE</th>\n",
       "      <th>YEAR</th>\n",
       "      <th>WORKSITE</th>\n",
       "      <th>lon</th>\n",
       "      <th>lat</th>\n",
       "      <th>STATE</th>\n",
       "    </tr>\n",
       "  </thead>\n",
       "  <tbody>\n",
       "    <tr>\n",
       "      <th>18</th>\n",
       "      <td>19</td>\n",
       "      <td>CERTIFIED</td>\n",
       "      <td>QUICKLOGIX LLC</td>\n",
       "      <td>CHIEF EXECUTIVES</td>\n",
       "      <td>CEO</td>\n",
       "      <td>Y</td>\n",
       "      <td>187200.0</td>\n",
       "      <td>2016.0</td>\n",
       "      <td>SANTA CLARA, CALIFORNIA</td>\n",
       "      <td>-121.955236</td>\n",
       "      <td>37.354108</td>\n",
       "      <td>CALIFORNIA</td>\n",
       "    </tr>\n",
       "    <tr>\n",
       "      <th>19</th>\n",
       "      <td>20</td>\n",
       "      <td>CERTIFIED</td>\n",
       "      <td>MCCHRYSTAL GROUP, LLC</td>\n",
       "      <td>CHIEF EXECUTIVES</td>\n",
       "      <td>PRESIDENT, NORTHEAST REGION</td>\n",
       "      <td>Y</td>\n",
       "      <td>241842.0</td>\n",
       "      <td>2016.0</td>\n",
       "      <td>ALEXANDRIA, VIRGINIA</td>\n",
       "      <td>-77.046921</td>\n",
       "      <td>38.804835</td>\n",
       "      <td>VIRGINIA</td>\n",
       "    </tr>\n",
       "    <tr>\n",
       "      <th>22</th>\n",
       "      <td>23</td>\n",
       "      <td>CERTIFIED</td>\n",
       "      <td>LOMICS, LLC</td>\n",
       "      <td>CHIEF EXECUTIVES</td>\n",
       "      <td>CEO</td>\n",
       "      <td>Y</td>\n",
       "      <td>99986.0</td>\n",
       "      <td>2016.0</td>\n",
       "      <td>SAN DIEGO, CALIFORNIA</td>\n",
       "      <td>-117.161084</td>\n",
       "      <td>32.715738</td>\n",
       "      <td>CALIFORNIA</td>\n",
       "    </tr>\n",
       "    <tr>\n",
       "      <th>23</th>\n",
       "      <td>24</td>\n",
       "      <td>CERTIFIED</td>\n",
       "      <td>UC UNIVERSITY HIGH SCHOOL EDUCATION INC.</td>\n",
       "      <td>CHIEF EXECUTIVES</td>\n",
       "      <td>CHIEF FINANCIAL OFFICER</td>\n",
       "      <td>Y</td>\n",
       "      <td>99986.0</td>\n",
       "      <td>2016.0</td>\n",
       "      <td>CHULA VISTA, CALIFORNIA</td>\n",
       "      <td>-117.084196</td>\n",
       "      <td>32.640054</td>\n",
       "      <td>CALIFORNIA</td>\n",
       "    </tr>\n",
       "    <tr>\n",
       "      <th>25</th>\n",
       "      <td>26</td>\n",
       "      <td>CERTIFIED</td>\n",
       "      <td>QUICKLOGIX, INC.</td>\n",
       "      <td>CHIEF EXECUTIVES</td>\n",
       "      <td>CEO</td>\n",
       "      <td>Y</td>\n",
       "      <td>187200.0</td>\n",
       "      <td>2016.0</td>\n",
       "      <td>SANTA CLARA, CALIFORNIA</td>\n",
       "      <td>-121.955236</td>\n",
       "      <td>37.354108</td>\n",
       "      <td>CALIFORNIA</td>\n",
       "    </tr>\n",
       "  </tbody>\n",
       "</table>\n",
       "</div>"
      ],
      "text/plain": [
       "    Unnamed: 0 CASE_STATUS                             EMPLOYER_NAME  \\\n",
       "18          19   CERTIFIED                            QUICKLOGIX LLC   \n",
       "19          20   CERTIFIED                     MCCHRYSTAL GROUP, LLC   \n",
       "22          23   CERTIFIED                               LOMICS, LLC   \n",
       "23          24   CERTIFIED  UC UNIVERSITY HIGH SCHOOL EDUCATION INC.   \n",
       "25          26   CERTIFIED                          QUICKLOGIX, INC.   \n",
       "\n",
       "            SOC_NAME                    JOB_TITLE FULL_TIME_POSITION  \\\n",
       "18  CHIEF EXECUTIVES                          CEO                  Y   \n",
       "19  CHIEF EXECUTIVES  PRESIDENT, NORTHEAST REGION                  Y   \n",
       "22  CHIEF EXECUTIVES                          CEO                  Y   \n",
       "23  CHIEF EXECUTIVES      CHIEF FINANCIAL OFFICER                  Y   \n",
       "25  CHIEF EXECUTIVES                          CEO                  Y   \n",
       "\n",
       "    PREVAILING_WAGE    YEAR                 WORKSITE         lon        lat  \\\n",
       "18         187200.0  2016.0  SANTA CLARA, CALIFORNIA -121.955236  37.354108   \n",
       "19         241842.0  2016.0     ALEXANDRIA, VIRGINIA  -77.046921  38.804835   \n",
       "22          99986.0  2016.0    SAN DIEGO, CALIFORNIA -117.161084  32.715738   \n",
       "23          99986.0  2016.0  CHULA VISTA, CALIFORNIA -117.084196  32.640054   \n",
       "25         187200.0  2016.0  SANTA CLARA, CALIFORNIA -121.955236  37.354108   \n",
       "\n",
       "          STATE  \n",
       "18   CALIFORNIA  \n",
       "19     VIRGINIA  \n",
       "22   CALIFORNIA  \n",
       "23   CALIFORNIA  \n",
       "25   CALIFORNIA  "
      ]
     },
     "execution_count": 10,
     "metadata": {},
     "output_type": "execute_result"
    }
   ],
   "source": [
    "sub_df.head()"
   ]
  },
  {
   "cell_type": "code",
   "execution_count": 37,
   "metadata": {},
   "outputs": [
    {
     "name": "stdout",
     "output_type": "stream",
     "text": [
      "2056\n",
      "276706\n",
      "231603\n"
     ]
    }
   ],
   "source": [
    "# Print # of levels in each categorical level\n",
    "print(sub_df['SOC_NAME'].nunique())\n",
    "print(sub_df['JOB_TITLE'].nunique())\n",
    "print(sub_df['EMPLOYER_NAME'].nunique())"
   ]
  },
  {
   "cell_type": "code",
   "execution_count": 15,
   "metadata": {},
   "outputs": [
    {
     "name": "stdout",
     "output_type": "stream",
     "text": [
      "PROGRAMMER ANALYST     226313\n",
      "SOFTWARE ENGINEER      105315\n",
      "COMPUTER PROGRAMMER     65399\n",
      "SYSTEMS ANALYST         56652\n",
      "SOFTWARE DEVELOPER      38745\n",
      "Name: JOB_TITLE, dtype: int64\n",
      "\n",
      "\n",
      "Computer Systems Analysts            271368\n",
      "Computer Programmers                 205977\n",
      "SOFTWARE DEVELOPERS, APPLICATIONS    197937\n",
      "COMPUTER SYSTEMS ANALYSTS            197932\n",
      "Software Developers, Applications    174187\n",
      "Name: SOC_NAME, dtype: int64\n"
     ]
    }
   ],
   "source": [
    "print(count_unique(sub_df,'JOB_TITLE').head(5))\n",
    "print('\\n')\n",
    "print(count_unique(sub_df,'SOC_NAME').head(5))"
   ]
  },
  {
   "cell_type": "code",
   "execution_count": 11,
   "metadata": {
    "collapsed": true
   },
   "outputs": [],
   "source": [
    "# Dictionary of state codes. This is used to encode states in our data set\n",
    "us_state_abbrev = {\n",
    "    'alabama': 'AL',\n",
    "    'alaska': 'AK',\n",
    "    'arizona': 'AZ',\n",
    "    'arkansas': 'AR',\n",
    "    'california': 'CA',\n",
    "    'colorado': 'CO',\n",
    "    'connecticut': 'CT',\n",
    "    'delaware': 'DE',\n",
    "    'district of columbia': 'DC',\n",
    "    'florida': 'FL',\n",
    "    'georgia': 'GA',\n",
    "    'hawaii': 'HI',\n",
    "    'idaho': 'ID',\n",
    "    'illinois': 'IL',\n",
    "    'indiana': 'IN',\n",
    "    'iowa': 'IA',\n",
    "    'kansas': 'KS',\n",
    "    'kentucky': 'KY',\n",
    "    'louisiana': 'LA',\n",
    "    'maine': 'ME',\n",
    "    'maryland': 'MD',\n",
    "    'massachusetts': 'MA',\n",
    "    'michigan': 'MI',\n",
    "    'minnesota': 'MN',\n",
    "    'mississippi': 'MS',\n",
    "    'missouri': 'MO',\n",
    "    'montana': 'MT',\n",
    "    'nebraska': 'NE',\n",
    "    'nevada': 'NV',\n",
    "    'new hampshire': 'NH',\n",
    "    'new jersey': 'NJ',\n",
    "    'new mexico': 'NM',\n",
    "    'new york': 'NY',\n",
    "    'north carolina': 'NC',\n",
    "    'north dakota': 'ND',\n",
    "    'ohio': 'OH',\n",
    "    'oklahoma': 'OK',\n",
    "    'oregon': 'OR',\n",
    "    'pennsylvania': 'PA',\n",
    "    'rhode island': 'RI',\n",
    "    'south carolina': 'SC',\n",
    "    'south dakota': 'SD',\n",
    "    'tennessee': 'TN',\n",
    "    'texas': 'TX',\n",
    "    'utah': 'UT',\n",
    "    'vermont': 'VT',\n",
    "    'virginia': 'VA',\n",
    "    'washington': 'WA',\n",
    "    'west virginia': 'WV',\n",
    "    'wisconsin': 'WI',\n",
    "    'wyoming': 'WY',\n",
    "}\n",
    "\n",
    "# Function to encode the states\n",
    "def code_conversion(df,col):\n",
    "    Code = []\n",
    "    for state in df[col]:\n",
    "        if state.lower().strip(' ') in us_state_abbrev:\n",
    "            Code.append(us_state_abbrev[state.lower().strip(' ')])\n",
    "        else:\n",
    "            Code.append('Null')\n",
    "    df['CODE'] = Code"
   ]
  },
  {
   "cell_type": "code",
   "execution_count": 12,
   "metadata": {},
   "outputs": [
    {
     "name": "stderr",
     "output_type": "stream",
     "text": [
      "/Users/uyennguyen/anaconda3/lib/python3.6/site-packages/ipykernel_launcher.py:64: SettingWithCopyWarning:\n",
      "\n",
      "\n",
      "A value is trying to be set on a copy of a slice from a DataFrame.\n",
      "Try using .loc[row_indexer,col_indexer] = value instead\n",
      "\n",
      "See the caveats in the documentation: http://pandas.pydata.org/pandas-docs/stable/indexing.html#indexing-view-versus-copy\n",
      "\n"
     ]
    }
   ],
   "source": [
    "# Encoding states\n",
    "code_conversion(sub_df,'STATE')\n",
    "# Subset the data with US states only\n",
    "US = sub_df[sub_df['CODE'] != 'Null']"
   ]
  },
  {
   "cell_type": "code",
   "execution_count": 13,
   "metadata": {},
   "outputs": [
    {
     "data": {
      "text/plain": [
       "Y    2244485\n",
       "N     367333\n",
       "Name: FULL_TIME_POSITION, dtype: int64"
      ]
     },
     "execution_count": 13,
     "metadata": {},
     "output_type": "execute_result"
    }
   ],
   "source": [
    "#Check the full time status of certified cases\n",
    "US[US['CASE_STATUS']=='CERTIFIED']['FULL_TIME_POSITION'].value_counts()"
   ]
  },
  {
   "cell_type": "code",
   "execution_count": 14,
   "metadata": {},
   "outputs": [
    {
     "data": {
      "text/html": [
       "<div>\n",
       "<style>\n",
       "    .dataframe thead tr:only-child th {\n",
       "        text-align: right;\n",
       "    }\n",
       "\n",
       "    .dataframe thead th {\n",
       "        text-align: left;\n",
       "    }\n",
       "\n",
       "    .dataframe tbody tr th {\n",
       "        vertical-align: top;\n",
       "    }\n",
       "</style>\n",
       "<table border=\"1\" class=\"dataframe\">\n",
       "  <thead>\n",
       "    <tr style=\"text-align: right;\">\n",
       "      <th></th>\n",
       "      <th>CODE</th>\n",
       "      <th>YEAR</th>\n",
       "      <th>CASE_STATUS</th>\n",
       "      <th>SOC_NAME</th>\n",
       "      <th>COUNT</th>\n",
       "    </tr>\n",
       "  </thead>\n",
       "  <tbody>\n",
       "    <tr>\n",
       "      <th>0</th>\n",
       "      <td>AK</td>\n",
       "      <td>2011.0</td>\n",
       "      <td>CERTIFIED</td>\n",
       "      <td>Geological and Petroleum Technicians</td>\n",
       "      <td>8</td>\n",
       "    </tr>\n",
       "    <tr>\n",
       "      <th>1</th>\n",
       "      <td>AK</td>\n",
       "      <td>2011.0</td>\n",
       "      <td>CERTIFIED</td>\n",
       "      <td>Accountants and Auditors</td>\n",
       "      <td>4</td>\n",
       "    </tr>\n",
       "    <tr>\n",
       "      <th>2</th>\n",
       "      <td>AK</td>\n",
       "      <td>2011.0</td>\n",
       "      <td>CERTIFIED</td>\n",
       "      <td>Computer Programmers</td>\n",
       "      <td>4</td>\n",
       "    </tr>\n",
       "    <tr>\n",
       "      <th>3</th>\n",
       "      <td>AK</td>\n",
       "      <td>2011.0</td>\n",
       "      <td>DENIED</td>\n",
       "      <td>Physicians and Surgeons, All Other</td>\n",
       "      <td>6</td>\n",
       "    </tr>\n",
       "    <tr>\n",
       "      <th>4</th>\n",
       "      <td>AK</td>\n",
       "      <td>2011.0</td>\n",
       "      <td>DENIED</td>\n",
       "      <td>Financial Managers</td>\n",
       "      <td>5</td>\n",
       "    </tr>\n",
       "  </tbody>\n",
       "</table>\n",
       "</div>"
      ],
      "text/plain": [
       "  CODE    YEAR CASE_STATUS                              SOC_NAME  COUNT\n",
       "0   AK  2011.0   CERTIFIED  Geological and Petroleum Technicians      8\n",
       "1   AK  2011.0   CERTIFIED              Accountants and Auditors      4\n",
       "2   AK  2011.0   CERTIFIED                  Computer Programmers      4\n",
       "3   AK  2011.0      DENIED    Physicians and Surgeons, All Other      6\n",
       "4   AK  2011.0      DENIED                    Financial Managers      5"
      ]
     },
     "execution_count": 14,
     "metadata": {},
     "output_type": "execute_result"
    }
   ],
   "source": [
    "# Aggregate data by state, year, status, and job. Order by and print out top 3 job counts. \n",
    "df = US.groupby(['CODE','YEAR','CASE_STATUS','SOC_NAME'])['JOB_TITLE'].count().reset_index()\n",
    "df.columns = ['CODE','YEAR','CASE_STATUS','SOC_NAME','COUNT']\n",
    "df_agg = df.groupby(['CODE','YEAR','CASE_STATUS','SOC_NAME']).agg({'COUNT':sum})\n",
    "g = df_agg['COUNT'].groupby(level=[0,1,2], group_keys=False).nlargest(3).reset_index()\n",
    "g.head()"
   ]
  },
  {
   "cell_type": "code",
   "execution_count": 15,
   "metadata": {},
   "outputs": [
    {
     "data": {
      "text/html": [
       "<div>\n",
       "<style>\n",
       "    .dataframe thead tr:only-child th {\n",
       "        text-align: right;\n",
       "    }\n",
       "\n",
       "    .dataframe thead th {\n",
       "        text-align: left;\n",
       "    }\n",
       "\n",
       "    .dataframe tbody tr th {\n",
       "        vertical-align: top;\n",
       "    }\n",
       "</style>\n",
       "<table border=\"1\" class=\"dataframe\">\n",
       "  <thead>\n",
       "    <tr style=\"text-align: right;\">\n",
       "      <th></th>\n",
       "      <th>CODE</th>\n",
       "      <th>YEAR</th>\n",
       "      <th>CASE_STATUS</th>\n",
       "      <th>TEXT</th>\n",
       "      <th>TOTAL</th>\n",
       "    </tr>\n",
       "  </thead>\n",
       "  <tbody>\n",
       "    <tr>\n",
       "      <th>0</th>\n",
       "      <td>AK</td>\n",
       "      <td>2011.0</td>\n",
       "      <td>CERTIFIED</td>\n",
       "      <td>AK&lt;br&gt;Geological and Petroleum Technicians 8&lt;b...</td>\n",
       "      <td>16</td>\n",
       "    </tr>\n",
       "    <tr>\n",
       "      <th>1</th>\n",
       "      <td>AK</td>\n",
       "      <td>2011.0</td>\n",
       "      <td>DENIED</td>\n",
       "      <td>AK&lt;br&gt;Physicians and Surgeons All Other 6&lt;br&gt;F...</td>\n",
       "      <td>14</td>\n",
       "    </tr>\n",
       "    <tr>\n",
       "      <th>2</th>\n",
       "      <td>AK</td>\n",
       "      <td>2012.0</td>\n",
       "      <td>CERTIFIED</td>\n",
       "      <td>AK&lt;br&gt;Computer Systems Analysts 28&lt;br&gt;Accounta...</td>\n",
       "      <td>50</td>\n",
       "    </tr>\n",
       "    <tr>\n",
       "      <th>3</th>\n",
       "      <td>AK</td>\n",
       "      <td>2012.0</td>\n",
       "      <td>DENIED</td>\n",
       "      <td>AK&lt;br&gt;Teachers and Instructors All Other* 5&lt;br...</td>\n",
       "      <td>10</td>\n",
       "    </tr>\n",
       "    <tr>\n",
       "      <th>4</th>\n",
       "      <td>AK</td>\n",
       "      <td>2013.0</td>\n",
       "      <td>CERTIFIED</td>\n",
       "      <td>AK&lt;br&gt;Computer Systems Analysts 54&lt;br&gt;Accounta...</td>\n",
       "      <td>73</td>\n",
       "    </tr>\n",
       "  </tbody>\n",
       "</table>\n",
       "</div>"
      ],
      "text/plain": [
       "  CODE    YEAR CASE_STATUS                                               TEXT  \\\n",
       "0   AK  2011.0   CERTIFIED  AK<br>Geological and Petroleum Technicians 8<b...   \n",
       "1   AK  2011.0      DENIED  AK<br>Physicians and Surgeons All Other 6<br>F...   \n",
       "2   AK  2012.0   CERTIFIED  AK<br>Computer Systems Analysts 28<br>Accounta...   \n",
       "3   AK  2012.0      DENIED  AK<br>Teachers and Instructors All Other* 5<br...   \n",
       "4   AK  2013.0   CERTIFIED  AK<br>Computer Systems Analysts 54<br>Accounta...   \n",
       "\n",
       "   TOTAL  \n",
       "0     16  \n",
       "1     14  \n",
       "2     50  \n",
       "3     10  \n",
       "4     73  "
      ]
     },
     "execution_count": 15,
     "metadata": {},
     "output_type": "execute_result"
    }
   ],
   "source": [
    "#Create a text column that aggregate job name and count\n",
    "g['TEXT'] = g['SOC_NAME'].apply(lambda x:x.replace(',','')) + ' ' + g['COUNT'].map(str)\n",
    "g1 = g.groupby(['CODE','YEAR','CASE_STATUS'])['TEXT'].apply('<br>'.join).reset_index()\n",
    "g1['TEXT'] = g1['CODE'] + '<br>' + g1['TEXT']\n",
    "# Create a column of total counts by state, year, and status\n",
    "g1['TOTAL'] = g.groupby(['CODE','YEAR','CASE_STATUS'])['COUNT'].sum().reset_index()['COUNT']\n",
    "g1.head()"
   ]
  },
  {
   "cell_type": "code",
   "execution_count": 16,
   "metadata": {},
   "outputs": [
    {
     "data": {
      "text/html": [
       "<div>\n",
       "<style>\n",
       "    .dataframe thead tr:only-child th {\n",
       "        text-align: right;\n",
       "    }\n",
       "\n",
       "    .dataframe thead th {\n",
       "        text-align: left;\n",
       "    }\n",
       "\n",
       "    .dataframe tbody tr th {\n",
       "        vertical-align: top;\n",
       "    }\n",
       "</style>\n",
       "<table border=\"1\" class=\"dataframe\">\n",
       "  <thead>\n",
       "    <tr style=\"text-align: right;\">\n",
       "      <th></th>\n",
       "      <th>STATE</th>\n",
       "      <th>CODE</th>\n",
       "      <th>variable</th>\n",
       "      <th>POP</th>\n",
       "      <th>YEAR</th>\n",
       "    </tr>\n",
       "  </thead>\n",
       "  <tbody>\n",
       "    <tr>\n",
       "      <th>0</th>\n",
       "      <td>Alabama</td>\n",
       "      <td>AL</td>\n",
       "      <td>POPESTIMATE2011</td>\n",
       "      <td>4798649</td>\n",
       "      <td>2011</td>\n",
       "    </tr>\n",
       "    <tr>\n",
       "      <th>1</th>\n",
       "      <td>Alaska</td>\n",
       "      <td>AK</td>\n",
       "      <td>POPESTIMATE2011</td>\n",
       "      <td>722259</td>\n",
       "      <td>2011</td>\n",
       "    </tr>\n",
       "    <tr>\n",
       "      <th>2</th>\n",
       "      <td>Arizona</td>\n",
       "      <td>AZ</td>\n",
       "      <td>POPESTIMATE2011</td>\n",
       "      <td>6465488</td>\n",
       "      <td>2011</td>\n",
       "    </tr>\n",
       "    <tr>\n",
       "      <th>3</th>\n",
       "      <td>Arkansas</td>\n",
       "      <td>AR</td>\n",
       "      <td>POPESTIMATE2011</td>\n",
       "      <td>2938640</td>\n",
       "      <td>2011</td>\n",
       "    </tr>\n",
       "    <tr>\n",
       "      <th>4</th>\n",
       "      <td>California</td>\n",
       "      <td>CA</td>\n",
       "      <td>POPESTIMATE2011</td>\n",
       "      <td>37672654</td>\n",
       "      <td>2011</td>\n",
       "    </tr>\n",
       "  </tbody>\n",
       "</table>\n",
       "</div>"
      ],
      "text/plain": [
       "        STATE CODE         variable       POP  YEAR\n",
       "0     Alabama   AL  POPESTIMATE2011   4798649  2011\n",
       "1      Alaska   AK  POPESTIMATE2011    722259  2011\n",
       "2     Arizona   AZ  POPESTIMATE2011   6465488  2011\n",
       "3    Arkansas   AR  POPESTIMATE2011   2938640  2011\n",
       "4  California   CA  POPESTIMATE2011  37672654  2011"
      ]
     },
     "execution_count": 16,
     "metadata": {},
     "output_type": "execute_result"
    }
   ],
   "source": [
    "# Import census data of estimated state population from 2010 to 2017\n",
    "census = pd.read_csv('nst-est2017-popchg2010_2017.csv')\n",
    "# Get data from 2011-2016 only\n",
    "census.drop(['STATE','ESTIMATESBASE2010','POPESTIMATE2010','POPESTIMATE2017'],1,inplace=True)\n",
    "# Change NAME column to STATE\n",
    "census = census.rename(columns = {'NAME':'STATE'})\n",
    "# Encode States\n",
    "code_conversion(census,'STATE')\n",
    "# Pivot census table to get population in each year for each state\n",
    "keys = [c for c in census if c.startswith('POP')]\n",
    "census = pd.melt(census, id_vars=['STATE','CODE'], value_vars=keys, value_name='POP')\n",
    "census['YEAR'] = census['variable'].apply(lambda x:int(x[-4:]))\n",
    "census.head()"
   ]
  },
  {
   "cell_type": "code",
   "execution_count": 17,
   "metadata": {},
   "outputs": [
    {
     "data": {
      "text/html": [
       "<div>\n",
       "<style>\n",
       "    .dataframe thead tr:only-child th {\n",
       "        text-align: right;\n",
       "    }\n",
       "\n",
       "    .dataframe thead th {\n",
       "        text-align: left;\n",
       "    }\n",
       "\n",
       "    .dataframe tbody tr th {\n",
       "        vertical-align: top;\n",
       "    }\n",
       "</style>\n",
       "<table border=\"1\" class=\"dataframe\">\n",
       "  <thead>\n",
       "    <tr style=\"text-align: right;\">\n",
       "      <th></th>\n",
       "      <th>CODE</th>\n",
       "      <th>YEAR</th>\n",
       "      <th>CASE_STATUS</th>\n",
       "      <th>TEXT</th>\n",
       "      <th>TOTAL</th>\n",
       "      <th>STATE</th>\n",
       "      <th>variable</th>\n",
       "      <th>POP</th>\n",
       "      <th>PERCENT</th>\n",
       "    </tr>\n",
       "  </thead>\n",
       "  <tbody>\n",
       "    <tr>\n",
       "      <th>0</th>\n",
       "      <td>AK</td>\n",
       "      <td>2011</td>\n",
       "      <td>CERTIFIED</td>\n",
       "      <td>AK&lt;br&gt;Geological and Petroleum Technicians 8&lt;b...</td>\n",
       "      <td>16</td>\n",
       "      <td>Alaska</td>\n",
       "      <td>POPESTIMATE2011</td>\n",
       "      <td>722259</td>\n",
       "      <td>0.002215</td>\n",
       "    </tr>\n",
       "    <tr>\n",
       "      <th>1</th>\n",
       "      <td>AK</td>\n",
       "      <td>2011</td>\n",
       "      <td>DENIED</td>\n",
       "      <td>AK&lt;br&gt;Physicians and Surgeons All Other 6&lt;br&gt;F...</td>\n",
       "      <td>14</td>\n",
       "      <td>Alaska</td>\n",
       "      <td>POPESTIMATE2011</td>\n",
       "      <td>722259</td>\n",
       "      <td>0.001938</td>\n",
       "    </tr>\n",
       "    <tr>\n",
       "      <th>2</th>\n",
       "      <td>AK</td>\n",
       "      <td>2012</td>\n",
       "      <td>CERTIFIED</td>\n",
       "      <td>AK&lt;br&gt;Computer Systems Analysts 28&lt;br&gt;Accounta...</td>\n",
       "      <td>50</td>\n",
       "      <td>Alaska</td>\n",
       "      <td>POPESTIMATE2012</td>\n",
       "      <td>730825</td>\n",
       "      <td>0.006842</td>\n",
       "    </tr>\n",
       "    <tr>\n",
       "      <th>3</th>\n",
       "      <td>AK</td>\n",
       "      <td>2012</td>\n",
       "      <td>DENIED</td>\n",
       "      <td>AK&lt;br&gt;Teachers and Instructors All Other* 5&lt;br...</td>\n",
       "      <td>10</td>\n",
       "      <td>Alaska</td>\n",
       "      <td>POPESTIMATE2012</td>\n",
       "      <td>730825</td>\n",
       "      <td>0.001368</td>\n",
       "    </tr>\n",
       "    <tr>\n",
       "      <th>4</th>\n",
       "      <td>AK</td>\n",
       "      <td>2013</td>\n",
       "      <td>CERTIFIED</td>\n",
       "      <td>AK&lt;br&gt;Computer Systems Analysts 54&lt;br&gt;Accounta...</td>\n",
       "      <td>73</td>\n",
       "      <td>Alaska</td>\n",
       "      <td>POPESTIMATE2013</td>\n",
       "      <td>736760</td>\n",
       "      <td>0.009908</td>\n",
       "    </tr>\n",
       "  </tbody>\n",
       "</table>\n",
       "</div>"
      ],
      "text/plain": [
       "  CODE  YEAR CASE_STATUS                                               TEXT  \\\n",
       "0   AK  2011   CERTIFIED  AK<br>Geological and Petroleum Technicians 8<b...   \n",
       "1   AK  2011      DENIED  AK<br>Physicians and Surgeons All Other 6<br>F...   \n",
       "2   AK  2012   CERTIFIED  AK<br>Computer Systems Analysts 28<br>Accounta...   \n",
       "3   AK  2012      DENIED  AK<br>Teachers and Instructors All Other* 5<br...   \n",
       "4   AK  2013   CERTIFIED  AK<br>Computer Systems Analysts 54<br>Accounta...   \n",
       "\n",
       "   TOTAL   STATE         variable     POP   PERCENT  \n",
       "0     16  Alaska  POPESTIMATE2011  722259  0.002215  \n",
       "1     14  Alaska  POPESTIMATE2011  722259  0.001938  \n",
       "2     50  Alaska  POPESTIMATE2012  730825  0.006842  \n",
       "3     10  Alaska  POPESTIMATE2012  730825  0.001368  \n",
       "4     73  Alaska  POPESTIMATE2013  736760  0.009908  "
      ]
     },
     "execution_count": 17,
     "metadata": {},
     "output_type": "execute_result"
    }
   ],
   "source": [
    "# left join two tables together on 'CODE'\n",
    "g1_census = pd.merge(g1,census,how='left',on=['CODE','YEAR'])\n",
    "# Calculate the fraction of H1B in total population for each state in each year\n",
    "g1_census['PERCENT'] = g1_census['TOTAL']/g1_census['POP'] * 100\n",
    "g1_census.head()"
   ]
  },
  {
   "cell_type": "code",
   "execution_count": 18,
   "metadata": {
    "collapsed": true
   },
   "outputs": [],
   "source": [
    "# percentages of total submitted cases each year by state\n",
    "total = g1_census.groupby(['CODE','YEAR'])['PERCENT'].sum().reset_index()"
   ]
  },
  {
   "cell_type": "code",
   "execution_count": 19,
   "metadata": {
    "collapsed": true
   },
   "outputs": [],
   "source": [
    "def geoplot_year(df,year,status,values,title):\n",
    "    \"\"\"\n",
    "    This function plot a geographical map of H1B distribution across states \n",
    "    df is the processed data frame g1\n",
    "    year: 2011 - 2016\n",
    "    status: 'DENIED' or 'CERTIFIED'\n",
    "    title: 'denied' or 'accepted'\n",
    "    \"\"\"\n",
    "    if status == 'Null':\n",
    "        df = df[df['YEAR']==year]\n",
    "        df['TEXT'] = df['CODE']\n",
    "    else:\n",
    "        df = df[(df['YEAR'] == year)&(df['CASE_STATUS']==status)]\n",
    "    data = dict(type='choropleth',\n",
    "            colorscale = 'YIOrRd',\n",
    "            locations = df['CODE'],\n",
    "            z = df[values],\n",
    "            locationmode = 'USA-states',\n",
    "            text = df['TEXT'],\n",
    "            marker = dict(line = dict(color = 'rgb(255,255,255)',width = 2)),\n",
    "            colorbar = {'title':\"%\"}\n",
    "            ) \n",
    "    layout = dict(title = '%d Percentage of H1B cases %s by state population' %(year,title),\n",
    "              geo = dict(scope='usa',\n",
    "                         showlakes = True,\n",
    "                         lakecolor = 'rgb(85,173,240)')\n",
    "             )\n",
    "    choromap = go.Figure(data = [data],layout = layout)\n",
    "    iplot(choromap)"
   ]
  },
  {
   "cell_type": "code",
   "execution_count": 26,
   "metadata": {},
   "outputs": [
    {
     "data": {
      "application/vnd.plotly.v1+json": {
       "data": [
        {
         "colorbar": {
          "title": "%"
         },
         "colorscale": "YIOrRd",
         "locationmode": "USA-states",
         "locations": [
          "AK",
          "AL",
          "AR",
          "AZ",
          "CA",
          "CO",
          "CT",
          "DC",
          "DE",
          "FL",
          "GA",
          "HI",
          "IA",
          "ID",
          "IL",
          "IN",
          "KS",
          "KY",
          "LA",
          "MA",
          "MD",
          "ME",
          "MI",
          "MN",
          "MO",
          "MS",
          "MT",
          "NC",
          "ND",
          "NE",
          "NH",
          "NJ",
          "NM",
          "NV",
          "NY",
          "OH",
          "OK",
          "OR",
          "PA",
          "RI",
          "SC",
          "SD",
          "TN",
          "TX",
          "UT",
          "VA",
          "VT",
          "WA",
          "WI",
          "WV",
          "WY"
         ],
         "marker": {
          "line": {
           "color": "rgb(255,255,255)",
           "width": 2
          }
         },
         "text": [
          "AK<br>COMPUTER OCCUPATIONS ALL OTHER 19<br>NETWORK AND COMPUTER SYSTEMS ADMINISTRATORS 11<br>COMPUTER SYSTEMS ANALYSTS 8",
          "AL<br>SOFTWARE DEVELOPERS APPLICATIONS 254<br>COMPUTER SYSTEMS ANALYSTS 201<br>COMPUTER PROGRAMMERS 121",
          "AR<br>COMPUTER SYSTEMS ANALYSTS 688<br>COMPUTER PROGRAMMERS 531<br>COMPUTER OCCUPATIONS ALL OTHER 319",
          "AZ<br>SOFTWARE DEVELOPERS APPLICATIONS 1576<br>COMPUTER SYSTEMS ANALYSTS 1478<br>COMPUTER OCCUPATIONS ALL OTHER 886",
          "CA<br>SOFTWARE DEVELOPERS APPLICATIONS 21902<br>COMPUTER SYSTEMS ANALYSTS 13061<br>COMPUTER PROGRAMMERS 9776",
          "CO<br>SOFTWARE DEVELOPERS APPLICATIONS 989<br>COMPUTER SYSTEMS ANALYSTS 716<br>COMPUTER OCCUPATIONS ALL OTHER 591",
          "CT<br>SOFTWARE DEVELOPERS APPLICATIONS 1480<br>COMPUTER PROGRAMMERS 1305<br>COMPUTER SYSTEMS ANALYSTS 1291",
          "DC<br>SOFTWARE DEVELOPERS APPLICATIONS 501<br>COMPUTER SYSTEMS ANALYSTS 490<br>COMPUTER PROGRAMMERS 476",
          "DE<br>COMPUTER SYSTEMS ANALYSTS 615<br>COMPUTER PROGRAMMERS 539<br>SOFTWARE DEVELOPERS APPLICATIONS 538",
          "FL<br>SOFTWARE DEVELOPERS APPLICATIONS 3278<br>COMPUTER SYSTEMS ANALYSTS 3121<br>COMPUTER PROGRAMMERS 2518",
          "GA<br>SOFTWARE DEVELOPERS APPLICATIONS 4567<br>COMPUTER SYSTEMS ANALYSTS 4422<br>COMPUTER PROGRAMMERS 3488",
          "HI<br>COMPUTER SYSTEMS ANALYSTS 34<br>ACCOUNTANTS AND AUDITORS 33<br>SOFTWARE DEVELOPERS APPLICATIONS 33",
          "IA<br>SOFTWARE DEVELOPERS APPLICATIONS 400<br>COMPUTER SYSTEMS ANALYSTS 376<br>COMPUTER PROGRAMMERS 293",
          "ID<br>COMPUTER PROGRAMMERS 116<br>COMPUTER SYSTEMS ANALYSTS 101<br>ELECTRONICS ENGINEERS EXCEPT COMPUTER 80",
          "IL<br>SOFTWARE DEVELOPERS APPLICATIONS 6741<br>COMPUTER SYSTEMS ANALYSTS 4737<br>COMPUTER PROGRAMMERS 4018",
          "IN<br>SOFTWARE DEVELOPERS APPLICATIONS 732<br>COMPUTER SYSTEMS ANALYSTS 722<br>COMPUTER PROGRAMMERS 645",
          "KS<br>SOFTWARE DEVELOPERS APPLICATIONS 418<br>COMPUTER PROGRAMMERS 390<br>COMPUTER SYSTEMS ANALYSTS 311",
          "KY<br>COMPUTER SYSTEMS ANALYSTS 412<br>COMPUTER PROGRAMMERS 363<br>SOFTWARE DEVELOPERS APPLICATIONS 343",
          "LA<br>COMPUTER PROGRAMMERS 383<br>SOFTWARE DEVELOPERS APPLICATIONS 224<br>COMPUTER SYSTEMS ANALYSTS 187",
          "MA<br>SOFTWARE DEVELOPERS APPLICATIONS 4365<br>COMPUTER SYSTEMS ANALYSTS 2933<br>COMPUTER PROGRAMMERS 2364",
          "MD<br>COMPUTER SYSTEMS ANALYSTS 1823<br>SOFTWARE DEVELOPERS APPLICATIONS 1468<br>COMPUTER PROGRAMMERS 1220",
          "ME<br>SOFTWARE DEVELOPERS APPLICATIONS 130<br>COMPUTER SYSTEMS ANALYSTS 83<br>COMPUTER PROGRAMMERS 60",
          "MI<br>SOFTWARE DEVELOPERS APPLICATIONS 3134<br>COMPUTER SYSTEMS ANALYSTS 3041<br>MECHANICAL ENGINEERS 2299",
          "MN<br>SOFTWARE DEVELOPERS APPLICATIONS 1793<br>COMPUTER SYSTEMS ANALYSTS 1596<br>COMPUTER PROGRAMMERS 1175",
          "MO<br>SOFTWARE DEVELOPERS APPLICATIONS 1452<br>COMPUTER PROGRAMMERS 991<br>COMPUTER SYSTEMS ANALYSTS 979",
          "MS<br>COMPUTER SYSTEMS ANALYSTS 81<br>COMPUTER PROGRAMMERS 71<br>SOFTWARE DEVELOPERS APPLICATIONS 62",
          "MT<br>COMPUTER SYSTEMS ANALYSTS 23<br>PHYSICIANS AND SURGEONS ALL OTHER 16<br>SOFTWARE DEVELOPERS APPLICATIONS 12",
          "NC<br>SOFTWARE DEVELOPERS APPLICATIONS 3338<br>COMPUTER SYSTEMS ANALYSTS 2637<br>COMPUTER PROGRAMMERS 2139",
          "ND<br>COMPUTER PROGRAMMERS 73<br>SOFTWARE DEVELOPERS APPLICATIONS 53<br>MEDICAL AND CLINICAL LABORATORY TECHNOLOGISTS 43",
          "NE<br>SOFTWARE DEVELOPERS APPLICATIONS 441<br>COMPUTER SYSTEMS ANALYSTS 209<br>COMPUTER PROGRAMMERS 180",
          "NH<br>SOFTWARE DEVELOPERS APPLICATIONS 385<br>COMPUTER PROGRAMMERS 270<br>COMPUTER SYSTEMS ANALYSTS 240",
          "NJ<br>COMPUTER PROGRAMMERS 11134<br>SOFTWARE DEVELOPERS APPLICATIONS 7830<br>COMPUTER SYSTEMS ANALYSTS 6264",
          "NM<br>SOFTWARE DEVELOPERS APPLICATIONS 133<br>COMPUTER SYSTEMS ANALYSTS 87<br>PHYSICAL THERAPISTS 48",
          "NV<br>COMPUTER SYSTEMS ANALYSTS 157<br>SOFTWARE DEVELOPERS APPLICATIONS 153<br>COMPUTER OCCUPATIONS ALL OTHER 105",
          "NY<br>SOFTWARE DEVELOPERS APPLICATIONS 6591<br>COMPUTER SYSTEMS ANALYSTS 5359<br>COMPUTER PROGRAMMERS 3934",
          "OH<br>SOFTWARE DEVELOPERS APPLICATIONS 2971<br>COMPUTER SYSTEMS ANALYSTS 2832<br>COMPUTER PROGRAMMERS 1930",
          "OK<br>SOFTWARE DEVELOPERS APPLICATIONS 226<br>COMPUTER SYSTEMS ANALYSTS 224<br>COMPUTER PROGRAMMERS 175",
          "OR<br>COMPUTER SYSTEMS ANALYSTS 553<br>SOFTWARE DEVELOPERS APPLICATIONS 548<br>COMPUTER PROGRAMMERS 485",
          "PA<br>COMPUTER SYSTEMS ANALYSTS 5240<br>SOFTWARE DEVELOPERS APPLICATIONS 3197<br>COMPUTER PROGRAMMERS 2496",
          "RI<br>SOFTWARE DEVELOPERS APPLICATIONS 373<br>COMPUTER SYSTEMS ANALYSTS 322<br>COMPUTER PROGRAMMERS 296",
          "SC<br>COMPUTER SYSTEMS ANALYSTS 423<br>SOFTWARE DEVELOPERS APPLICATIONS 369<br>COMPUTER PROGRAMMERS 347",
          "SD<br>COMPUTER SYSTEMS ANALYSTS 47<br>COMPUTER PROGRAMMERS 38<br>PHYSICIANS AND SURGEONS ALL OTHER 25",
          "TN<br>COMPUTER SYSTEMS ANALYSTS 1007<br>SOFTWARE DEVELOPERS APPLICATIONS 765<br>COMPUTER PROGRAMMERS 515",
          "TX<br>COMPUTER SYSTEMS ANALYSTS 11212<br>SOFTWARE DEVELOPERS APPLICATIONS 10916<br>COMPUTER PROGRAMMERS 8916",
          "UT<br>SOFTWARE DEVELOPERS APPLICATIONS 475<br>COMPUTER SYSTEMS ANALYSTS 255<br>COMPUTER SYSTEMS ANALYST 249",
          "VA<br>SOFTWARE DEVELOPERS APPLICATIONS 3779<br>COMPUTER SYSTEMS ANALYSTS 3340<br>COMPUTER PROGRAMMERS 3230",
          "VT<br>COMPUTER SYSTEMS ANALYSTS 40<br>SOFTWARE DEVELOPERS APPLICATIONS 36<br>COMPUTER SYSTEMS ANALYST 22",
          "WA<br>SOFTWARE DEVELOPERS APPLICATIONS 6253<br>COMPUTER SYSTEMS ANALYSTS 3154<br>COMPUTER OCCUPATIONS ALL OTHER 2313",
          "WI<br>COMPUTER SYSTEMS ANALYSTS 1129<br>SOFTWARE DEVELOPERS APPLICATIONS 1125<br>COMPUTER PROGRAMMERS 703",
          "WV<br>SOFTWARE DEVELOPERS APPLICATIONS 54<br>COMPUTER SYSTEMS ANALYSTS 48<br>COMPUTER PROGRAMMERS 45",
          "WY<br>PHYSICIANS AND SURGEONS ALL OTHER 9<br>INTERNISTS GENERAL 6<br>COMPUTER SYSTEMS ANALYSTS 5"
         ],
         "type": "choropleth",
         "z": [
          0.005124595089559042,
          0.011850522935185253,
          0.05146857789775957,
          0.05703002124006426,
          0.113849903487529,
          0.04151819902153757,
          0.11361086605986868,
          0.21436838044469383,
          0.17760087666815716,
          0.04316782407782814,
          0.12097595218749577,
          0.006999453342693936,
          0.03414387507110646,
          0.017678297835866826,
          0.12072554368954276,
          0.03164000279167628,
          0.03848361488734687,
          0.025202243495600764,
          0.016943521098418172,
          0.1415943002358977,
          0.07487445126372007,
          0.020522735883665405,
          0.08530776583551829,
          0.08260558727975312,
          0.05617962771064241,
          0.007168182647973565,
          0.004910191632263233,
          0.07988823916928046,
          0.022367870737530902,
          0.043510101420473755,
          0.06704044523844302,
          0.2809849755235222,
          0.012851054361878018,
          0.014119228892773474,
          0.08007547380593323,
          0.06653442952383788,
          0.015938969812101224,
          0.038815571945984194,
          0.08550033099803435,
          0.09370573562311951,
          0.02296453380786649,
          0.012767804703659253,
          0.03439405997890939,
          0.11124943029641214,
          0.03215823824097393,
          0.12299183065181273,
          0.015721403889282816,
          0.16096835927918038,
          0.051221938579750936,
          0.008038774234580182,
          0.003419329469491033
         ]
        }
       ],
       "layout": {
        "geo": {
         "lakecolor": "rgb(85,173,240)",
         "scope": "usa",
         "showlakes": true
        },
        "title": "2016 Percentage of H1B cases accepted by state population"
       }
      },
      "text/html": [
       "<div id=\"ed75d891-ab24-4fae-8098-ae26ef9dd3a5\" style=\"height: 525px; width: 100%;\" class=\"plotly-graph-div\"></div><script type=\"text/javascript\">require([\"plotly\"], function(Plotly) { window.PLOTLYENV=window.PLOTLYENV || {};window.PLOTLYENV.BASE_URL=\"https://plot.ly\";Plotly.newPlot(\"ed75d891-ab24-4fae-8098-ae26ef9dd3a5\", [{\"type\": \"choropleth\", \"colorscale\": \"YIOrRd\", \"locations\": [\"AK\", \"AL\", \"AR\", \"AZ\", \"CA\", \"CO\", \"CT\", \"DC\", \"DE\", \"FL\", \"GA\", \"HI\", \"IA\", \"ID\", \"IL\", \"IN\", \"KS\", \"KY\", \"LA\", \"MA\", \"MD\", \"ME\", \"MI\", \"MN\", \"MO\", \"MS\", \"MT\", \"NC\", \"ND\", \"NE\", \"NH\", \"NJ\", \"NM\", \"NV\", \"NY\", \"OH\", \"OK\", \"OR\", \"PA\", \"RI\", \"SC\", \"SD\", \"TN\", \"TX\", \"UT\", \"VA\", \"VT\", \"WA\", \"WI\", \"WV\", \"WY\"], \"z\": [0.005124595089559042, 0.011850522935185253, 0.05146857789775957, 0.05703002124006426, 0.113849903487529, 0.04151819902153757, 0.11361086605986868, 0.21436838044469383, 0.17760087666815716, 0.04316782407782814, 0.12097595218749577, 0.006999453342693936, 0.03414387507110646, 0.017678297835866826, 0.12072554368954276, 0.03164000279167628, 0.03848361488734687, 0.025202243495600764, 0.016943521098418172, 0.1415943002358977, 0.07487445126372007, 0.020522735883665405, 0.08530776583551829, 0.08260558727975312, 0.05617962771064241, 0.007168182647973565, 0.004910191632263233, 0.07988823916928046, 0.022367870737530902, 0.043510101420473755, 0.06704044523844302, 0.2809849755235222, 0.012851054361878018, 0.014119228892773474, 0.08007547380593323, 0.06653442952383788, 0.015938969812101224, 0.038815571945984194, 0.08550033099803435, 0.09370573562311951, 0.02296453380786649, 0.012767804703659253, 0.03439405997890939, 0.11124943029641214, 0.03215823824097393, 0.12299183065181273, 0.015721403889282816, 0.16096835927918038, 0.051221938579750936, 0.008038774234580182, 0.003419329469491033], \"locationmode\": \"USA-states\", \"text\": [\"AK<br>COMPUTER OCCUPATIONS ALL OTHER 19<br>NETWORK AND COMPUTER SYSTEMS ADMINISTRATORS 11<br>COMPUTER SYSTEMS ANALYSTS 8\", \"AL<br>SOFTWARE DEVELOPERS APPLICATIONS 254<br>COMPUTER SYSTEMS ANALYSTS 201<br>COMPUTER PROGRAMMERS 121\", \"AR<br>COMPUTER SYSTEMS ANALYSTS 688<br>COMPUTER PROGRAMMERS 531<br>COMPUTER OCCUPATIONS ALL OTHER 319\", \"AZ<br>SOFTWARE DEVELOPERS APPLICATIONS 1576<br>COMPUTER SYSTEMS ANALYSTS 1478<br>COMPUTER OCCUPATIONS ALL OTHER 886\", \"CA<br>SOFTWARE DEVELOPERS APPLICATIONS 21902<br>COMPUTER SYSTEMS ANALYSTS 13061<br>COMPUTER PROGRAMMERS 9776\", \"CO<br>SOFTWARE DEVELOPERS APPLICATIONS 989<br>COMPUTER SYSTEMS ANALYSTS 716<br>COMPUTER OCCUPATIONS ALL OTHER 591\", \"CT<br>SOFTWARE DEVELOPERS APPLICATIONS 1480<br>COMPUTER PROGRAMMERS 1305<br>COMPUTER SYSTEMS ANALYSTS 1291\", \"DC<br>SOFTWARE DEVELOPERS APPLICATIONS 501<br>COMPUTER SYSTEMS ANALYSTS 490<br>COMPUTER PROGRAMMERS 476\", \"DE<br>COMPUTER SYSTEMS ANALYSTS 615<br>COMPUTER PROGRAMMERS 539<br>SOFTWARE DEVELOPERS APPLICATIONS 538\", \"FL<br>SOFTWARE DEVELOPERS APPLICATIONS 3278<br>COMPUTER SYSTEMS ANALYSTS 3121<br>COMPUTER PROGRAMMERS 2518\", \"GA<br>SOFTWARE DEVELOPERS APPLICATIONS 4567<br>COMPUTER SYSTEMS ANALYSTS 4422<br>COMPUTER PROGRAMMERS 3488\", \"HI<br>COMPUTER SYSTEMS ANALYSTS 34<br>ACCOUNTANTS AND AUDITORS 33<br>SOFTWARE DEVELOPERS APPLICATIONS 33\", \"IA<br>SOFTWARE DEVELOPERS APPLICATIONS 400<br>COMPUTER SYSTEMS ANALYSTS 376<br>COMPUTER PROGRAMMERS 293\", \"ID<br>COMPUTER PROGRAMMERS 116<br>COMPUTER SYSTEMS ANALYSTS 101<br>ELECTRONICS ENGINEERS EXCEPT COMPUTER 80\", \"IL<br>SOFTWARE DEVELOPERS APPLICATIONS 6741<br>COMPUTER SYSTEMS ANALYSTS 4737<br>COMPUTER PROGRAMMERS 4018\", \"IN<br>SOFTWARE DEVELOPERS APPLICATIONS 732<br>COMPUTER SYSTEMS ANALYSTS 722<br>COMPUTER PROGRAMMERS 645\", \"KS<br>SOFTWARE DEVELOPERS APPLICATIONS 418<br>COMPUTER PROGRAMMERS 390<br>COMPUTER SYSTEMS ANALYSTS 311\", \"KY<br>COMPUTER SYSTEMS ANALYSTS 412<br>COMPUTER PROGRAMMERS 363<br>SOFTWARE DEVELOPERS APPLICATIONS 343\", \"LA<br>COMPUTER PROGRAMMERS 383<br>SOFTWARE DEVELOPERS APPLICATIONS 224<br>COMPUTER SYSTEMS ANALYSTS 187\", \"MA<br>SOFTWARE DEVELOPERS APPLICATIONS 4365<br>COMPUTER SYSTEMS ANALYSTS 2933<br>COMPUTER PROGRAMMERS 2364\", \"MD<br>COMPUTER SYSTEMS ANALYSTS 1823<br>SOFTWARE DEVELOPERS APPLICATIONS 1468<br>COMPUTER PROGRAMMERS 1220\", \"ME<br>SOFTWARE DEVELOPERS APPLICATIONS 130<br>COMPUTER SYSTEMS ANALYSTS 83<br>COMPUTER PROGRAMMERS 60\", \"MI<br>SOFTWARE DEVELOPERS APPLICATIONS 3134<br>COMPUTER SYSTEMS ANALYSTS 3041<br>MECHANICAL ENGINEERS 2299\", \"MN<br>SOFTWARE DEVELOPERS APPLICATIONS 1793<br>COMPUTER SYSTEMS ANALYSTS 1596<br>COMPUTER PROGRAMMERS 1175\", \"MO<br>SOFTWARE DEVELOPERS APPLICATIONS 1452<br>COMPUTER PROGRAMMERS 991<br>COMPUTER SYSTEMS ANALYSTS 979\", \"MS<br>COMPUTER SYSTEMS ANALYSTS 81<br>COMPUTER PROGRAMMERS 71<br>SOFTWARE DEVELOPERS APPLICATIONS 62\", \"MT<br>COMPUTER SYSTEMS ANALYSTS 23<br>PHYSICIANS AND SURGEONS ALL OTHER 16<br>SOFTWARE DEVELOPERS APPLICATIONS 12\", \"NC<br>SOFTWARE DEVELOPERS APPLICATIONS 3338<br>COMPUTER SYSTEMS ANALYSTS 2637<br>COMPUTER PROGRAMMERS 2139\", \"ND<br>COMPUTER PROGRAMMERS 73<br>SOFTWARE DEVELOPERS APPLICATIONS 53<br>MEDICAL AND CLINICAL LABORATORY TECHNOLOGISTS 43\", \"NE<br>SOFTWARE DEVELOPERS APPLICATIONS 441<br>COMPUTER SYSTEMS ANALYSTS 209<br>COMPUTER PROGRAMMERS 180\", \"NH<br>SOFTWARE DEVELOPERS APPLICATIONS 385<br>COMPUTER PROGRAMMERS 270<br>COMPUTER SYSTEMS ANALYSTS 240\", \"NJ<br>COMPUTER PROGRAMMERS 11134<br>SOFTWARE DEVELOPERS APPLICATIONS 7830<br>COMPUTER SYSTEMS ANALYSTS 6264\", \"NM<br>SOFTWARE DEVELOPERS APPLICATIONS 133<br>COMPUTER SYSTEMS ANALYSTS 87<br>PHYSICAL THERAPISTS 48\", \"NV<br>COMPUTER SYSTEMS ANALYSTS 157<br>SOFTWARE DEVELOPERS APPLICATIONS 153<br>COMPUTER OCCUPATIONS ALL OTHER 105\", \"NY<br>SOFTWARE DEVELOPERS APPLICATIONS 6591<br>COMPUTER SYSTEMS ANALYSTS 5359<br>COMPUTER PROGRAMMERS 3934\", \"OH<br>SOFTWARE DEVELOPERS APPLICATIONS 2971<br>COMPUTER SYSTEMS ANALYSTS 2832<br>COMPUTER PROGRAMMERS 1930\", \"OK<br>SOFTWARE DEVELOPERS APPLICATIONS 226<br>COMPUTER SYSTEMS ANALYSTS 224<br>COMPUTER PROGRAMMERS 175\", \"OR<br>COMPUTER SYSTEMS ANALYSTS 553<br>SOFTWARE DEVELOPERS APPLICATIONS 548<br>COMPUTER PROGRAMMERS 485\", \"PA<br>COMPUTER SYSTEMS ANALYSTS 5240<br>SOFTWARE DEVELOPERS APPLICATIONS 3197<br>COMPUTER PROGRAMMERS 2496\", \"RI<br>SOFTWARE DEVELOPERS APPLICATIONS 373<br>COMPUTER SYSTEMS ANALYSTS 322<br>COMPUTER PROGRAMMERS 296\", \"SC<br>COMPUTER SYSTEMS ANALYSTS 423<br>SOFTWARE DEVELOPERS APPLICATIONS 369<br>COMPUTER PROGRAMMERS 347\", \"SD<br>COMPUTER SYSTEMS ANALYSTS 47<br>COMPUTER PROGRAMMERS 38<br>PHYSICIANS AND SURGEONS ALL OTHER 25\", \"TN<br>COMPUTER SYSTEMS ANALYSTS 1007<br>SOFTWARE DEVELOPERS APPLICATIONS 765<br>COMPUTER PROGRAMMERS 515\", \"TX<br>COMPUTER SYSTEMS ANALYSTS 11212<br>SOFTWARE DEVELOPERS APPLICATIONS 10916<br>COMPUTER PROGRAMMERS 8916\", \"UT<br>SOFTWARE DEVELOPERS APPLICATIONS 475<br>COMPUTER SYSTEMS ANALYSTS 255<br>COMPUTER SYSTEMS ANALYST 249\", \"VA<br>SOFTWARE DEVELOPERS APPLICATIONS 3779<br>COMPUTER SYSTEMS ANALYSTS 3340<br>COMPUTER PROGRAMMERS 3230\", \"VT<br>COMPUTER SYSTEMS ANALYSTS 40<br>SOFTWARE DEVELOPERS APPLICATIONS 36<br>COMPUTER SYSTEMS ANALYST 22\", \"WA<br>SOFTWARE DEVELOPERS APPLICATIONS 6253<br>COMPUTER SYSTEMS ANALYSTS 3154<br>COMPUTER OCCUPATIONS ALL OTHER 2313\", \"WI<br>COMPUTER SYSTEMS ANALYSTS 1129<br>SOFTWARE DEVELOPERS APPLICATIONS 1125<br>COMPUTER PROGRAMMERS 703\", \"WV<br>SOFTWARE DEVELOPERS APPLICATIONS 54<br>COMPUTER SYSTEMS ANALYSTS 48<br>COMPUTER PROGRAMMERS 45\", \"WY<br>PHYSICIANS AND SURGEONS ALL OTHER 9<br>INTERNISTS GENERAL 6<br>COMPUTER SYSTEMS ANALYSTS 5\"], \"marker\": {\"line\": {\"color\": \"rgb(255,255,255)\", \"width\": 2}}, \"colorbar\": {\"title\": \"%\"}}], {\"title\": \"2016 Percentage of H1B cases accepted by state population\", \"geo\": {\"scope\": \"usa\", \"showlakes\": true, \"lakecolor\": \"rgb(85,173,240)\"}}, {\"showLink\": true, \"linkText\": \"Export to plot.ly\"})});</script>"
      ],
      "text/vnd.plotly.v1+html": [
       "<div id=\"ed75d891-ab24-4fae-8098-ae26ef9dd3a5\" style=\"height: 525px; width: 100%;\" class=\"plotly-graph-div\"></div><script type=\"text/javascript\">require([\"plotly\"], function(Plotly) { window.PLOTLYENV=window.PLOTLYENV || {};window.PLOTLYENV.BASE_URL=\"https://plot.ly\";Plotly.newPlot(\"ed75d891-ab24-4fae-8098-ae26ef9dd3a5\", [{\"type\": \"choropleth\", \"colorscale\": \"YIOrRd\", \"locations\": [\"AK\", \"AL\", \"AR\", \"AZ\", \"CA\", \"CO\", \"CT\", \"DC\", \"DE\", \"FL\", \"GA\", \"HI\", \"IA\", \"ID\", \"IL\", \"IN\", \"KS\", \"KY\", \"LA\", \"MA\", \"MD\", \"ME\", \"MI\", \"MN\", \"MO\", \"MS\", \"MT\", \"NC\", \"ND\", \"NE\", \"NH\", \"NJ\", \"NM\", \"NV\", \"NY\", \"OH\", \"OK\", \"OR\", \"PA\", \"RI\", \"SC\", \"SD\", \"TN\", \"TX\", \"UT\", \"VA\", \"VT\", \"WA\", \"WI\", \"WV\", \"WY\"], \"z\": [0.005124595089559042, 0.011850522935185253, 0.05146857789775957, 0.05703002124006426, 0.113849903487529, 0.04151819902153757, 0.11361086605986868, 0.21436838044469383, 0.17760087666815716, 0.04316782407782814, 0.12097595218749577, 0.006999453342693936, 0.03414387507110646, 0.017678297835866826, 0.12072554368954276, 0.03164000279167628, 0.03848361488734687, 0.025202243495600764, 0.016943521098418172, 0.1415943002358977, 0.07487445126372007, 0.020522735883665405, 0.08530776583551829, 0.08260558727975312, 0.05617962771064241, 0.007168182647973565, 0.004910191632263233, 0.07988823916928046, 0.022367870737530902, 0.043510101420473755, 0.06704044523844302, 0.2809849755235222, 0.012851054361878018, 0.014119228892773474, 0.08007547380593323, 0.06653442952383788, 0.015938969812101224, 0.038815571945984194, 0.08550033099803435, 0.09370573562311951, 0.02296453380786649, 0.012767804703659253, 0.03439405997890939, 0.11124943029641214, 0.03215823824097393, 0.12299183065181273, 0.015721403889282816, 0.16096835927918038, 0.051221938579750936, 0.008038774234580182, 0.003419329469491033], \"locationmode\": \"USA-states\", \"text\": [\"AK<br>COMPUTER OCCUPATIONS ALL OTHER 19<br>NETWORK AND COMPUTER SYSTEMS ADMINISTRATORS 11<br>COMPUTER SYSTEMS ANALYSTS 8\", \"AL<br>SOFTWARE DEVELOPERS APPLICATIONS 254<br>COMPUTER SYSTEMS ANALYSTS 201<br>COMPUTER PROGRAMMERS 121\", \"AR<br>COMPUTER SYSTEMS ANALYSTS 688<br>COMPUTER PROGRAMMERS 531<br>COMPUTER OCCUPATIONS ALL OTHER 319\", \"AZ<br>SOFTWARE DEVELOPERS APPLICATIONS 1576<br>COMPUTER SYSTEMS ANALYSTS 1478<br>COMPUTER OCCUPATIONS ALL OTHER 886\", \"CA<br>SOFTWARE DEVELOPERS APPLICATIONS 21902<br>COMPUTER SYSTEMS ANALYSTS 13061<br>COMPUTER PROGRAMMERS 9776\", \"CO<br>SOFTWARE DEVELOPERS APPLICATIONS 989<br>COMPUTER SYSTEMS ANALYSTS 716<br>COMPUTER OCCUPATIONS ALL OTHER 591\", \"CT<br>SOFTWARE DEVELOPERS APPLICATIONS 1480<br>COMPUTER PROGRAMMERS 1305<br>COMPUTER SYSTEMS ANALYSTS 1291\", \"DC<br>SOFTWARE DEVELOPERS APPLICATIONS 501<br>COMPUTER SYSTEMS ANALYSTS 490<br>COMPUTER PROGRAMMERS 476\", \"DE<br>COMPUTER SYSTEMS ANALYSTS 615<br>COMPUTER PROGRAMMERS 539<br>SOFTWARE DEVELOPERS APPLICATIONS 538\", \"FL<br>SOFTWARE DEVELOPERS APPLICATIONS 3278<br>COMPUTER SYSTEMS ANALYSTS 3121<br>COMPUTER PROGRAMMERS 2518\", \"GA<br>SOFTWARE DEVELOPERS APPLICATIONS 4567<br>COMPUTER SYSTEMS ANALYSTS 4422<br>COMPUTER PROGRAMMERS 3488\", \"HI<br>COMPUTER SYSTEMS ANALYSTS 34<br>ACCOUNTANTS AND AUDITORS 33<br>SOFTWARE DEVELOPERS APPLICATIONS 33\", \"IA<br>SOFTWARE DEVELOPERS APPLICATIONS 400<br>COMPUTER SYSTEMS ANALYSTS 376<br>COMPUTER PROGRAMMERS 293\", \"ID<br>COMPUTER PROGRAMMERS 116<br>COMPUTER SYSTEMS ANALYSTS 101<br>ELECTRONICS ENGINEERS EXCEPT COMPUTER 80\", \"IL<br>SOFTWARE DEVELOPERS APPLICATIONS 6741<br>COMPUTER SYSTEMS ANALYSTS 4737<br>COMPUTER PROGRAMMERS 4018\", \"IN<br>SOFTWARE DEVELOPERS APPLICATIONS 732<br>COMPUTER SYSTEMS ANALYSTS 722<br>COMPUTER PROGRAMMERS 645\", \"KS<br>SOFTWARE DEVELOPERS APPLICATIONS 418<br>COMPUTER PROGRAMMERS 390<br>COMPUTER SYSTEMS ANALYSTS 311\", \"KY<br>COMPUTER SYSTEMS ANALYSTS 412<br>COMPUTER PROGRAMMERS 363<br>SOFTWARE DEVELOPERS APPLICATIONS 343\", \"LA<br>COMPUTER PROGRAMMERS 383<br>SOFTWARE DEVELOPERS APPLICATIONS 224<br>COMPUTER SYSTEMS ANALYSTS 187\", \"MA<br>SOFTWARE DEVELOPERS APPLICATIONS 4365<br>COMPUTER SYSTEMS ANALYSTS 2933<br>COMPUTER PROGRAMMERS 2364\", \"MD<br>COMPUTER SYSTEMS ANALYSTS 1823<br>SOFTWARE DEVELOPERS APPLICATIONS 1468<br>COMPUTER PROGRAMMERS 1220\", \"ME<br>SOFTWARE DEVELOPERS APPLICATIONS 130<br>COMPUTER SYSTEMS ANALYSTS 83<br>COMPUTER PROGRAMMERS 60\", \"MI<br>SOFTWARE DEVELOPERS APPLICATIONS 3134<br>COMPUTER SYSTEMS ANALYSTS 3041<br>MECHANICAL ENGINEERS 2299\", \"MN<br>SOFTWARE DEVELOPERS APPLICATIONS 1793<br>COMPUTER SYSTEMS ANALYSTS 1596<br>COMPUTER PROGRAMMERS 1175\", \"MO<br>SOFTWARE DEVELOPERS APPLICATIONS 1452<br>COMPUTER PROGRAMMERS 991<br>COMPUTER SYSTEMS ANALYSTS 979\", \"MS<br>COMPUTER SYSTEMS ANALYSTS 81<br>COMPUTER PROGRAMMERS 71<br>SOFTWARE DEVELOPERS APPLICATIONS 62\", \"MT<br>COMPUTER SYSTEMS ANALYSTS 23<br>PHYSICIANS AND SURGEONS ALL OTHER 16<br>SOFTWARE DEVELOPERS APPLICATIONS 12\", \"NC<br>SOFTWARE DEVELOPERS APPLICATIONS 3338<br>COMPUTER SYSTEMS ANALYSTS 2637<br>COMPUTER PROGRAMMERS 2139\", \"ND<br>COMPUTER PROGRAMMERS 73<br>SOFTWARE DEVELOPERS APPLICATIONS 53<br>MEDICAL AND CLINICAL LABORATORY TECHNOLOGISTS 43\", \"NE<br>SOFTWARE DEVELOPERS APPLICATIONS 441<br>COMPUTER SYSTEMS ANALYSTS 209<br>COMPUTER PROGRAMMERS 180\", \"NH<br>SOFTWARE DEVELOPERS APPLICATIONS 385<br>COMPUTER PROGRAMMERS 270<br>COMPUTER SYSTEMS ANALYSTS 240\", \"NJ<br>COMPUTER PROGRAMMERS 11134<br>SOFTWARE DEVELOPERS APPLICATIONS 7830<br>COMPUTER SYSTEMS ANALYSTS 6264\", \"NM<br>SOFTWARE DEVELOPERS APPLICATIONS 133<br>COMPUTER SYSTEMS ANALYSTS 87<br>PHYSICAL THERAPISTS 48\", \"NV<br>COMPUTER SYSTEMS ANALYSTS 157<br>SOFTWARE DEVELOPERS APPLICATIONS 153<br>COMPUTER OCCUPATIONS ALL OTHER 105\", \"NY<br>SOFTWARE DEVELOPERS APPLICATIONS 6591<br>COMPUTER SYSTEMS ANALYSTS 5359<br>COMPUTER PROGRAMMERS 3934\", \"OH<br>SOFTWARE DEVELOPERS APPLICATIONS 2971<br>COMPUTER SYSTEMS ANALYSTS 2832<br>COMPUTER PROGRAMMERS 1930\", \"OK<br>SOFTWARE DEVELOPERS APPLICATIONS 226<br>COMPUTER SYSTEMS ANALYSTS 224<br>COMPUTER PROGRAMMERS 175\", \"OR<br>COMPUTER SYSTEMS ANALYSTS 553<br>SOFTWARE DEVELOPERS APPLICATIONS 548<br>COMPUTER PROGRAMMERS 485\", \"PA<br>COMPUTER SYSTEMS ANALYSTS 5240<br>SOFTWARE DEVELOPERS APPLICATIONS 3197<br>COMPUTER PROGRAMMERS 2496\", \"RI<br>SOFTWARE DEVELOPERS APPLICATIONS 373<br>COMPUTER SYSTEMS ANALYSTS 322<br>COMPUTER PROGRAMMERS 296\", \"SC<br>COMPUTER SYSTEMS ANALYSTS 423<br>SOFTWARE DEVELOPERS APPLICATIONS 369<br>COMPUTER PROGRAMMERS 347\", \"SD<br>COMPUTER SYSTEMS ANALYSTS 47<br>COMPUTER PROGRAMMERS 38<br>PHYSICIANS AND SURGEONS ALL OTHER 25\", \"TN<br>COMPUTER SYSTEMS ANALYSTS 1007<br>SOFTWARE DEVELOPERS APPLICATIONS 765<br>COMPUTER PROGRAMMERS 515\", \"TX<br>COMPUTER SYSTEMS ANALYSTS 11212<br>SOFTWARE DEVELOPERS APPLICATIONS 10916<br>COMPUTER PROGRAMMERS 8916\", \"UT<br>SOFTWARE DEVELOPERS APPLICATIONS 475<br>COMPUTER SYSTEMS ANALYSTS 255<br>COMPUTER SYSTEMS ANALYST 249\", \"VA<br>SOFTWARE DEVELOPERS APPLICATIONS 3779<br>COMPUTER SYSTEMS ANALYSTS 3340<br>COMPUTER PROGRAMMERS 3230\", \"VT<br>COMPUTER SYSTEMS ANALYSTS 40<br>SOFTWARE DEVELOPERS APPLICATIONS 36<br>COMPUTER SYSTEMS ANALYST 22\", \"WA<br>SOFTWARE DEVELOPERS APPLICATIONS 6253<br>COMPUTER SYSTEMS ANALYSTS 3154<br>COMPUTER OCCUPATIONS ALL OTHER 2313\", \"WI<br>COMPUTER SYSTEMS ANALYSTS 1129<br>SOFTWARE DEVELOPERS APPLICATIONS 1125<br>COMPUTER PROGRAMMERS 703\", \"WV<br>SOFTWARE DEVELOPERS APPLICATIONS 54<br>COMPUTER SYSTEMS ANALYSTS 48<br>COMPUTER PROGRAMMERS 45\", \"WY<br>PHYSICIANS AND SURGEONS ALL OTHER 9<br>INTERNISTS GENERAL 6<br>COMPUTER SYSTEMS ANALYSTS 5\"], \"marker\": {\"line\": {\"color\": \"rgb(255,255,255)\", \"width\": 2}}, \"colorbar\": {\"title\": \"%\"}}], {\"title\": \"2016 Percentage of H1B cases accepted by state population\", \"geo\": {\"scope\": \"usa\", \"showlakes\": true, \"lakecolor\": \"rgb(85,173,240)\"}}, {\"showLink\": true, \"linkText\": \"Export to plot.ly\"})});</script>"
      ]
     },
     "metadata": {},
     "output_type": "display_data"
    },
    {
     "data": {
      "application/vnd.plotly.v1+json": {
       "data": [
        {
         "colorbar": {
          "title": "%"
         },
         "colorscale": "YIOrRd",
         "locationmode": "USA-states",
         "locations": [
          "AK",
          "AL",
          "AR",
          "AZ",
          "CA",
          "CO",
          "CT",
          "DC",
          "DE",
          "FL",
          "GA",
          "HI",
          "IA",
          "ID",
          "IL",
          "IN",
          "KS",
          "KY",
          "LA",
          "MA",
          "MD",
          "ME",
          "MI",
          "MN",
          "MO",
          "MS",
          "MT",
          "NC",
          "ND",
          "NE",
          "NH",
          "NJ",
          "NM",
          "NV",
          "NY",
          "OH",
          "OK",
          "OR",
          "PA",
          "RI",
          "SC",
          "SD",
          "TN",
          "TX",
          "UT",
          "VA",
          "VT",
          "WA",
          "WI",
          "WV",
          "WY"
         ],
         "marker": {
          "line": {
           "color": "rgb(255,255,255)",
           "width": 2
          }
         },
         "text": [
          "AK<br>VETERINARIANS 5<br>ENGINEERS ALL OTHER 3<br>FOOD SERVICE MANAGERS 2",
          "AL<br>COMPUTER PROGRAMMERS 3<br>AEROSPACE ENGINEERS 2<br>BUSINESS TEACHERS POSTSECONDARY 2",
          "AR<br>COMPUTER PROGRAMMERS 5<br>DATABASE ADMINISTRATORS 5<br>CLINICAL COUNSELING AND SCHOOL PSYCHOLOGISTS 3",
          "AZ<br>COMPUTER SYSTEMS ANALYSTS 15<br>COMPUTER OCCUPATIONS ALL OTHER 10<br>SOFTWARE DEVELOPERS APPLICATIONS 8",
          "CA<br>SOFTWARE DEVELOPERS APPLICATIONS 297<br>COMPUTER SYSTEMS ANALYSTS 137<br>COMPUTER OCCUPATIONS ALL OTHER 98",
          "CO<br>SOFTWARE DEVELOPERS APPLICATIONS 12<br>SOFTWARE DEVELOPERS SYSTEMS SOFTWARE 9<br>COMPUTER PROGRAMMERS 7",
          "CT<br>COMPUTER OCCUPATIONS ALL OTHER 11<br>COMPUTER SYSTEMS ANALYSTS 9<br>ACCOUNTANTS AND AUDITORS 6",
          "DC<br>COMPUTER PROGRAMMERS 11<br>SOFTWARE DEVELOPERS APPLICATIONS 11<br>LAWYERS 6",
          "DE<br>SOFTWARE DEVELOPERS APPLICATIONS 7<br>COMPUTER SYSTEMS ANALYSTS 3<br>FINANCIAL ANALYSTS 3",
          "FL<br>SOFTWARE DEVELOPERS APPLICATIONS 29<br>COMPUTER SYSTEMS ANALYSTS 28<br>COMPUTER PROGRAMMERS 27",
          "GA<br>SOFTWARE DEVELOPERS APPLICATIONS 58<br>COMPUTER SYSTEMS ANALYSTS 40<br>COMPUTER PROGRAMMERS 36",
          "HI<br>ARCHITECTS EXCEPT LANDSCAPE AND NAVAL 6<br>ACCOUNTANTS AND AUDITORS 5<br>FARMERS RANCHERS AND OTHER AGRICULTURAL MANAGERS 2",
          "IA<br>SOFTWARE DEVELOPERS APPLICATIONS 9<br>COMPUTER PROGRAMMERS 4<br>COMPUTER SYSTEMS ANALYSTS 4",
          "ID<br>ENGINEERS ALL OTHER 3<br>HEALTH SPECIALTIES TEACHERS POSTSECONDARY 2<br>MEDICAL AND CLINICAL LABORATORY TECHNOLOGISTS 2",
          "IL<br>SOFTWARE DEVELOPERS APPLICATIONS 50<br>COMPUTER SYSTEMS ANALYSTS 40<br>COMPUTER PROGRAMMERS 24",
          "IN<br>SOFTWARE DEVELOPERS APPLICATIONS 10<br>PHYSICAL THERAPISTS 9<br>MECHANICAL ENGINEERS 5",
          "KS<br>HEALTH SPECIALTIES TEACHERS POSTSECONDARY 5<br>SOFTWARE DEVELOPERS APPLICATIONS 4<br>MEDICAL AND CLINICAL LABORATORY TECHNOLOGISTS 3",
          "KY<br>SOFTWARE DEVELOPERS APPLICATIONS 7<br>MARKET RESEARCH ANALYSTS AND MARKETING SPECIALISTS 3<br>COMPUTER OCCUPATIONS ALL OTHER 2",
          "LA<br>PSYCHIATRISTS 4<br>COMPUTER PROGRAMMERS 3<br>INTERNISTS GENERAL 3",
          "MA<br>SOFTWARE DEVELOPERS APPLICATIONS 43<br>COMPUTER OCCUPATIONS ALL OTHER 20<br>COMPUTER SYSTEMS ANALYSTS 19",
          "MD<br>COMPUTER SYSTEMS ANALYSTS 16<br>SOFTWARE DEVELOPERS APPLICATIONS 14<br>ACCOUNTANTS AND AUDITORS 8",
          "ME<br>COMPUTER SYSTEMS ANALYSTS 2<br>INDUSTRIAL PRODUCTION MANAGERS 2<br>INTERNISTS GENERAL 2",
          "MI<br>COMPUTER SYSTEMS ANALYSTS 83<br>SOFTWARE DEVELOPERS APPLICATIONS 37<br>MECHANICAL ENGINEERS 35",
          "MN<br>SOFTWARE DEVELOPERS APPLICATIONS 37<br>COMPUTER SYSTEMS ANALYSTS 16<br>COMPUTER OCCUPATIONS ALL OTHER 15",
          "MO<br>PHYSICIANS AND SURGEONS ALL OTHER 10<br>SOFTWARE DEVELOPERS APPLICATIONS 10<br>COMPUTER SYSTEMS ANALYSTS 8",
          "MS<br>SECONDARY SCHOOL TEACHERS EXCEPT SPECIAL AND 4<br>HEALTH SPECIALTIES TEACHERS POSTSECONDARY 3<br>MARKETING MANAGERS 2",
          "MT<br>BIOLOGICAL SCIENTISTS ALL OTHER 2<br>BIOLOGICAL TECHNICIANS 2<br>NETWORK AND COMPUTER SYSTEMS ADMINISTRATORS 1",
          "NC<br>SOFTWARE DEVELOPERS APPLICATIONS 32<br>COMPUTER PROGRAMMERS 15<br>COMPUTER SYSTEMS ANALYSTS 15",
          "ND<br>MEDIA AND COMMUNICATION WORKERS ALL OTHER 2<br>MEDICAL AND CLINICAL LABORATORY TECHNOLOGISTS 2<br>SOFTWARE DEVELOPERS APPLICATIONS 2",
          "NE<br>SOFTWARE DEVELOPERS APPLICATIONS 4<br>COMPUTER OCCUPATIONS ALL OTHER 3<br>COMPUTER SYSTEMS ANALYSTS 3",
          "NH<br>COMPUTER SYSTEMS ANALYSTS 2<br>ARCHITECTURAL AND CIVIL DRAFTERS 1<br>BUSINESS OPERATIONS SPECIALISTS ALL OTHER 1",
          "NJ<br>COMPUTER PROGRAMMERS 90<br>SOFTWARE DEVELOPERS APPLICATIONS 57<br>COMPUTER SYSTEMS ANALYSTS 48",
          "NM<br>DENTISTS GENERAL 4<br>PHYSICISTS 4<br>ELEMENTARY SCHOOL TEACHERS EXCEPT SPECIAL 2",
          "NV<br>CIVIL ENGINEERS 4<br>MARKET RESEARCH ANALYSTS AND MARKETING SPECIALISTS 4<br>ACCOUNTANTS AND AUDITORS 3",
          "NY<br>SOFTWARE DEVELOPERS APPLICATIONS 83<br>MARKET RESEARCH ANALYSTS AND MARKETING SPECIALISTS 67<br>FINANCIAL ANALYSTS 53",
          "OH<br>SOFTWARE DEVELOPERS APPLICATIONS 32<br>COMPUTER SYSTEMS ANALYSTS 28<br>COMPUTER OCCUPATIONS ALL OTHER 18",
          "OK<br>ELEMENTARY SCHOOL TEACHERS EXCEPT SPECIAL 6<br>HEAVY AND TRACTOR-TRAILER TRUCK DRIVERS 3<br>INTERPRETERS AND TRANSLATORS 2",
          "OR<br>SOFTWARE DEVELOPERS APPLICATIONS 12<br>OCCUPATIONAL THERAPISTS 5<br>COMPUTER SYSTEMS ANALYSTS 4",
          "PA<br>COMPUTER SYSTEMS ANALYSTS 35<br>SOFTWARE DEVELOPERS APPLICATIONS 32<br>COMPUTER PROGRAMMERS 25",
          "RI<br>COMPUTER OCCUPATIONS ALL OTHER 3<br>COMPUTER PROGRAMMERS 3<br>SOFTWARE DEVELOPERS APPLICATIONS 3",
          "SC<br>COMPUTER PROGRAMMERS 6<br>SOFTWARE DEVELOPERS APPLICATIONS 6<br>ACCOUNTANTS AND AUDITORS 3",
          "SD<br>MUSIC DIRECTORS AND COMPOSERS 3<br>MECHANICAL ENGINEERS 2<br>ACCOUNTANTS AND AUDITORS 1",
          "TN<br>COMPUTER SYSTEMS ANALYSTS 10<br>SOFTWARE DEVELOPERS APPLICATIONS 7<br>PHYSICIANS AND SURGEONS ALL OTHER 5",
          "TX<br>COMPUTER SYSTEMS ANALYSTS 123<br>SOFTWARE DEVELOPERS APPLICATIONS 89<br>COMPUTER PROGRAMMERS 62",
          "UT<br>CHIEF EXECUTIVES 9<br>SOFTWARE DEVELOPERS APPLICATIONS 5<br>INTERPRETERS AND TRANSLATORS 4",
          "VA<br>SOFTWARE DEVELOPERS APPLICATIONS 48<br>COMPUTER SYSTEMS ANALYSTS 44<br>COMPUTER PROGRAMMERS 26",
          "VT<br>COMPUTER SYSTEMS ANALYSTS 2<br>MARKETING MANAGERS 1<br>MEDICAL SCIENTISTS EXCEPT EPIDEMIOLOGISTS 1",
          "WA<br>SOFTWARE DEVELOPERS APPLICATIONS 41<br>COMPUTER SYSTEMS ANALYSTS 26<br>COMPUTER OCCUPATIONS ALL OTHER 14",
          "WI<br>SOFTWARE DEVELOPERS APPLICATIONS 11<br>COMPUTER PROGRAMMERS 6<br>DENTISTS GENERAL 6",
          "WV<br>MEDICAL AND HEALTH SERVICES MANAGERS 4<br>COST ESTIMATORS 3<br>SECONDARY SCHOOL TEACHERS EXCEPT SPECIAL AND 3",
          "WY<br>ARCHITECTURAL AND CIVIL DRAFTERS 2<br>COMPUTER NETWORK SUPPORT SPECIALISTS 2<br>ARCHITECTS EXCEPT LANDSCAPE AND NAVAL 1"
         ],
         "type": "choropleth",
         "z": [
          0.0013485776551471164,
          0.00014401677178176522,
          0.0004350399952346388,
          0.0004776626144472387,
          0.0013538109625911494,
          0.0005063195002626532,
          0.0007247013046017139,
          0.004091557363634238,
          0.0013645457427222476,
          0.0004066499072039435,
          0.0012992528326620527,
          0.0009099289345502116,
          0.0005429802396714777,
          0.0004166602183537636,
          0.0008881461009685,
          0.00036177230443079124,
          0.00041269292104393425,
          0.0002705070858204018,
          0.00021339447227226917,
          0.0012016903973653085,
          0.0006307313562450371,
          0.0004510491403003386,
          0.0015603851433213755,
          0.001230758092686944,
          0.0004596813488889502,
          0.0003014656253820658,
          0.0004813913364963954,
          0.0006104351526368485,
          0.0007941255883147065,
          0.0005242180894032983,
          0.0002996221016243263,
          0.0021718753062901076,
          0.0004795169538014186,
          0.0003742446212542366,
          0.0010233770575802344,
          0.0006711089490313403,
          0.0002805258686929815,
          0.0005139514570401437,
          0.0007194759399816299,
          0.0008510107170616303,
          0.0003024302081808581,
          0.0006964257111086866,
          0.00033085672039178245,
          0.000981907740665408,
          0.0005912648501915534,
          0.001402361195952643,
          0.0006416899546646046,
          0.0011124946332434823,
          0.0003984121025817624,
          0.0005468553901074954,
          0.0008548323673727582
         ]
        }
       ],
       "layout": {
        "geo": {
         "lakecolor": "rgb(85,173,240)",
         "scope": "usa",
         "showlakes": true
        },
        "title": "2016 Percentage of H1B cases denied by state population"
       }
      },
      "text/html": [
       "<div id=\"560118e2-c131-4b9c-bbe9-50285bf2229e\" style=\"height: 525px; width: 100%;\" class=\"plotly-graph-div\"></div><script type=\"text/javascript\">require([\"plotly\"], function(Plotly) { window.PLOTLYENV=window.PLOTLYENV || {};window.PLOTLYENV.BASE_URL=\"https://plot.ly\";Plotly.newPlot(\"560118e2-c131-4b9c-bbe9-50285bf2229e\", [{\"type\": \"choropleth\", \"colorscale\": \"YIOrRd\", \"locations\": [\"AK\", \"AL\", \"AR\", \"AZ\", \"CA\", \"CO\", \"CT\", \"DC\", \"DE\", \"FL\", \"GA\", \"HI\", \"IA\", \"ID\", \"IL\", \"IN\", \"KS\", \"KY\", \"LA\", \"MA\", \"MD\", \"ME\", \"MI\", \"MN\", \"MO\", \"MS\", \"MT\", \"NC\", \"ND\", \"NE\", \"NH\", \"NJ\", \"NM\", \"NV\", \"NY\", \"OH\", \"OK\", \"OR\", \"PA\", \"RI\", \"SC\", \"SD\", \"TN\", \"TX\", \"UT\", \"VA\", \"VT\", \"WA\", \"WI\", \"WV\", \"WY\"], \"z\": [0.0013485776551471164, 0.00014401677178176522, 0.0004350399952346388, 0.0004776626144472387, 0.0013538109625911494, 0.0005063195002626532, 0.0007247013046017139, 0.004091557363634238, 0.0013645457427222476, 0.0004066499072039435, 0.0012992528326620527, 0.0009099289345502116, 0.0005429802396714777, 0.0004166602183537636, 0.0008881461009685, 0.00036177230443079124, 0.00041269292104393425, 0.0002705070858204018, 0.00021339447227226917, 0.0012016903973653085, 0.0006307313562450371, 0.0004510491403003386, 0.0015603851433213755, 0.001230758092686944, 0.0004596813488889502, 0.0003014656253820658, 0.0004813913364963954, 0.0006104351526368485, 0.0007941255883147065, 0.0005242180894032983, 0.0002996221016243263, 0.0021718753062901076, 0.0004795169538014186, 0.0003742446212542366, 0.0010233770575802344, 0.0006711089490313403, 0.0002805258686929815, 0.0005139514570401437, 0.0007194759399816299, 0.0008510107170616303, 0.0003024302081808581, 0.0006964257111086866, 0.00033085672039178245, 0.000981907740665408, 0.0005912648501915534, 0.001402361195952643, 0.0006416899546646046, 0.0011124946332434823, 0.0003984121025817624, 0.0005468553901074954, 0.0008548323673727582], \"locationmode\": \"USA-states\", \"text\": [\"AK<br>VETERINARIANS 5<br>ENGINEERS ALL OTHER 3<br>FOOD SERVICE MANAGERS 2\", \"AL<br>COMPUTER PROGRAMMERS 3<br>AEROSPACE ENGINEERS 2<br>BUSINESS TEACHERS POSTSECONDARY 2\", \"AR<br>COMPUTER PROGRAMMERS 5<br>DATABASE ADMINISTRATORS 5<br>CLINICAL COUNSELING AND SCHOOL PSYCHOLOGISTS 3\", \"AZ<br>COMPUTER SYSTEMS ANALYSTS 15<br>COMPUTER OCCUPATIONS ALL OTHER 10<br>SOFTWARE DEVELOPERS APPLICATIONS 8\", \"CA<br>SOFTWARE DEVELOPERS APPLICATIONS 297<br>COMPUTER SYSTEMS ANALYSTS 137<br>COMPUTER OCCUPATIONS ALL OTHER 98\", \"CO<br>SOFTWARE DEVELOPERS APPLICATIONS 12<br>SOFTWARE DEVELOPERS SYSTEMS SOFTWARE 9<br>COMPUTER PROGRAMMERS 7\", \"CT<br>COMPUTER OCCUPATIONS ALL OTHER 11<br>COMPUTER SYSTEMS ANALYSTS 9<br>ACCOUNTANTS AND AUDITORS 6\", \"DC<br>COMPUTER PROGRAMMERS 11<br>SOFTWARE DEVELOPERS APPLICATIONS 11<br>LAWYERS 6\", \"DE<br>SOFTWARE DEVELOPERS APPLICATIONS 7<br>COMPUTER SYSTEMS ANALYSTS 3<br>FINANCIAL ANALYSTS 3\", \"FL<br>SOFTWARE DEVELOPERS APPLICATIONS 29<br>COMPUTER SYSTEMS ANALYSTS 28<br>COMPUTER PROGRAMMERS 27\", \"GA<br>SOFTWARE DEVELOPERS APPLICATIONS 58<br>COMPUTER SYSTEMS ANALYSTS 40<br>COMPUTER PROGRAMMERS 36\", \"HI<br>ARCHITECTS EXCEPT LANDSCAPE AND NAVAL 6<br>ACCOUNTANTS AND AUDITORS 5<br>FARMERS RANCHERS AND OTHER AGRICULTURAL MANAGERS 2\", \"IA<br>SOFTWARE DEVELOPERS APPLICATIONS 9<br>COMPUTER PROGRAMMERS 4<br>COMPUTER SYSTEMS ANALYSTS 4\", \"ID<br>ENGINEERS ALL OTHER 3<br>HEALTH SPECIALTIES TEACHERS POSTSECONDARY 2<br>MEDICAL AND CLINICAL LABORATORY TECHNOLOGISTS 2\", \"IL<br>SOFTWARE DEVELOPERS APPLICATIONS 50<br>COMPUTER SYSTEMS ANALYSTS 40<br>COMPUTER PROGRAMMERS 24\", \"IN<br>SOFTWARE DEVELOPERS APPLICATIONS 10<br>PHYSICAL THERAPISTS 9<br>MECHANICAL ENGINEERS 5\", \"KS<br>HEALTH SPECIALTIES TEACHERS POSTSECONDARY 5<br>SOFTWARE DEVELOPERS APPLICATIONS 4<br>MEDICAL AND CLINICAL LABORATORY TECHNOLOGISTS 3\", \"KY<br>SOFTWARE DEVELOPERS APPLICATIONS 7<br>MARKET RESEARCH ANALYSTS AND MARKETING SPECIALISTS 3<br>COMPUTER OCCUPATIONS ALL OTHER 2\", \"LA<br>PSYCHIATRISTS 4<br>COMPUTER PROGRAMMERS 3<br>INTERNISTS GENERAL 3\", \"MA<br>SOFTWARE DEVELOPERS APPLICATIONS 43<br>COMPUTER OCCUPATIONS ALL OTHER 20<br>COMPUTER SYSTEMS ANALYSTS 19\", \"MD<br>COMPUTER SYSTEMS ANALYSTS 16<br>SOFTWARE DEVELOPERS APPLICATIONS 14<br>ACCOUNTANTS AND AUDITORS 8\", \"ME<br>COMPUTER SYSTEMS ANALYSTS 2<br>INDUSTRIAL PRODUCTION MANAGERS 2<br>INTERNISTS GENERAL 2\", \"MI<br>COMPUTER SYSTEMS ANALYSTS 83<br>SOFTWARE DEVELOPERS APPLICATIONS 37<br>MECHANICAL ENGINEERS 35\", \"MN<br>SOFTWARE DEVELOPERS APPLICATIONS 37<br>COMPUTER SYSTEMS ANALYSTS 16<br>COMPUTER OCCUPATIONS ALL OTHER 15\", \"MO<br>PHYSICIANS AND SURGEONS ALL OTHER 10<br>SOFTWARE DEVELOPERS APPLICATIONS 10<br>COMPUTER SYSTEMS ANALYSTS 8\", \"MS<br>SECONDARY SCHOOL TEACHERS EXCEPT SPECIAL AND 4<br>HEALTH SPECIALTIES TEACHERS POSTSECONDARY 3<br>MARKETING MANAGERS 2\", \"MT<br>BIOLOGICAL SCIENTISTS ALL OTHER 2<br>BIOLOGICAL TECHNICIANS 2<br>NETWORK AND COMPUTER SYSTEMS ADMINISTRATORS 1\", \"NC<br>SOFTWARE DEVELOPERS APPLICATIONS 32<br>COMPUTER PROGRAMMERS 15<br>COMPUTER SYSTEMS ANALYSTS 15\", \"ND<br>MEDIA AND COMMUNICATION WORKERS ALL OTHER 2<br>MEDICAL AND CLINICAL LABORATORY TECHNOLOGISTS 2<br>SOFTWARE DEVELOPERS APPLICATIONS 2\", \"NE<br>SOFTWARE DEVELOPERS APPLICATIONS 4<br>COMPUTER OCCUPATIONS ALL OTHER 3<br>COMPUTER SYSTEMS ANALYSTS 3\", \"NH<br>COMPUTER SYSTEMS ANALYSTS 2<br>ARCHITECTURAL AND CIVIL DRAFTERS 1<br>BUSINESS OPERATIONS SPECIALISTS ALL OTHER 1\", \"NJ<br>COMPUTER PROGRAMMERS 90<br>SOFTWARE DEVELOPERS APPLICATIONS 57<br>COMPUTER SYSTEMS ANALYSTS 48\", \"NM<br>DENTISTS GENERAL 4<br>PHYSICISTS 4<br>ELEMENTARY SCHOOL TEACHERS EXCEPT SPECIAL 2\", \"NV<br>CIVIL ENGINEERS 4<br>MARKET RESEARCH ANALYSTS AND MARKETING SPECIALISTS 4<br>ACCOUNTANTS AND AUDITORS 3\", \"NY<br>SOFTWARE DEVELOPERS APPLICATIONS 83<br>MARKET RESEARCH ANALYSTS AND MARKETING SPECIALISTS 67<br>FINANCIAL ANALYSTS 53\", \"OH<br>SOFTWARE DEVELOPERS APPLICATIONS 32<br>COMPUTER SYSTEMS ANALYSTS 28<br>COMPUTER OCCUPATIONS ALL OTHER 18\", \"OK<br>ELEMENTARY SCHOOL TEACHERS EXCEPT SPECIAL 6<br>HEAVY AND TRACTOR-TRAILER TRUCK DRIVERS 3<br>INTERPRETERS AND TRANSLATORS 2\", \"OR<br>SOFTWARE DEVELOPERS APPLICATIONS 12<br>OCCUPATIONAL THERAPISTS 5<br>COMPUTER SYSTEMS ANALYSTS 4\", \"PA<br>COMPUTER SYSTEMS ANALYSTS 35<br>SOFTWARE DEVELOPERS APPLICATIONS 32<br>COMPUTER PROGRAMMERS 25\", \"RI<br>COMPUTER OCCUPATIONS ALL OTHER 3<br>COMPUTER PROGRAMMERS 3<br>SOFTWARE DEVELOPERS APPLICATIONS 3\", \"SC<br>COMPUTER PROGRAMMERS 6<br>SOFTWARE DEVELOPERS APPLICATIONS 6<br>ACCOUNTANTS AND AUDITORS 3\", \"SD<br>MUSIC DIRECTORS AND COMPOSERS 3<br>MECHANICAL ENGINEERS 2<br>ACCOUNTANTS AND AUDITORS 1\", \"TN<br>COMPUTER SYSTEMS ANALYSTS 10<br>SOFTWARE DEVELOPERS APPLICATIONS 7<br>PHYSICIANS AND SURGEONS ALL OTHER 5\", \"TX<br>COMPUTER SYSTEMS ANALYSTS 123<br>SOFTWARE DEVELOPERS APPLICATIONS 89<br>COMPUTER PROGRAMMERS 62\", \"UT<br>CHIEF EXECUTIVES 9<br>SOFTWARE DEVELOPERS APPLICATIONS 5<br>INTERPRETERS AND TRANSLATORS 4\", \"VA<br>SOFTWARE DEVELOPERS APPLICATIONS 48<br>COMPUTER SYSTEMS ANALYSTS 44<br>COMPUTER PROGRAMMERS 26\", \"VT<br>COMPUTER SYSTEMS ANALYSTS 2<br>MARKETING MANAGERS 1<br>MEDICAL SCIENTISTS EXCEPT EPIDEMIOLOGISTS 1\", \"WA<br>SOFTWARE DEVELOPERS APPLICATIONS 41<br>COMPUTER SYSTEMS ANALYSTS 26<br>COMPUTER OCCUPATIONS ALL OTHER 14\", \"WI<br>SOFTWARE DEVELOPERS APPLICATIONS 11<br>COMPUTER PROGRAMMERS 6<br>DENTISTS GENERAL 6\", \"WV<br>MEDICAL AND HEALTH SERVICES MANAGERS 4<br>COST ESTIMATORS 3<br>SECONDARY SCHOOL TEACHERS EXCEPT SPECIAL AND 3\", \"WY<br>ARCHITECTURAL AND CIVIL DRAFTERS 2<br>COMPUTER NETWORK SUPPORT SPECIALISTS 2<br>ARCHITECTS EXCEPT LANDSCAPE AND NAVAL 1\"], \"marker\": {\"line\": {\"color\": \"rgb(255,255,255)\", \"width\": 2}}, \"colorbar\": {\"title\": \"%\"}}], {\"title\": \"2016 Percentage of H1B cases denied by state population\", \"geo\": {\"scope\": \"usa\", \"showlakes\": true, \"lakecolor\": \"rgb(85,173,240)\"}}, {\"showLink\": true, \"linkText\": \"Export to plot.ly\"})});</script>"
      ],
      "text/vnd.plotly.v1+html": [
       "<div id=\"560118e2-c131-4b9c-bbe9-50285bf2229e\" style=\"height: 525px; width: 100%;\" class=\"plotly-graph-div\"></div><script type=\"text/javascript\">require([\"plotly\"], function(Plotly) { window.PLOTLYENV=window.PLOTLYENV || {};window.PLOTLYENV.BASE_URL=\"https://plot.ly\";Plotly.newPlot(\"560118e2-c131-4b9c-bbe9-50285bf2229e\", [{\"type\": \"choropleth\", \"colorscale\": \"YIOrRd\", \"locations\": [\"AK\", \"AL\", \"AR\", \"AZ\", \"CA\", \"CO\", \"CT\", \"DC\", \"DE\", \"FL\", \"GA\", \"HI\", \"IA\", \"ID\", \"IL\", \"IN\", \"KS\", \"KY\", \"LA\", \"MA\", \"MD\", \"ME\", \"MI\", \"MN\", \"MO\", \"MS\", \"MT\", \"NC\", \"ND\", \"NE\", \"NH\", \"NJ\", \"NM\", \"NV\", \"NY\", \"OH\", \"OK\", \"OR\", \"PA\", \"RI\", \"SC\", \"SD\", \"TN\", \"TX\", \"UT\", \"VA\", \"VT\", \"WA\", \"WI\", \"WV\", \"WY\"], \"z\": [0.0013485776551471164, 0.00014401677178176522, 0.0004350399952346388, 0.0004776626144472387, 0.0013538109625911494, 0.0005063195002626532, 0.0007247013046017139, 0.004091557363634238, 0.0013645457427222476, 0.0004066499072039435, 0.0012992528326620527, 0.0009099289345502116, 0.0005429802396714777, 0.0004166602183537636, 0.0008881461009685, 0.00036177230443079124, 0.00041269292104393425, 0.0002705070858204018, 0.00021339447227226917, 0.0012016903973653085, 0.0006307313562450371, 0.0004510491403003386, 0.0015603851433213755, 0.001230758092686944, 0.0004596813488889502, 0.0003014656253820658, 0.0004813913364963954, 0.0006104351526368485, 0.0007941255883147065, 0.0005242180894032983, 0.0002996221016243263, 0.0021718753062901076, 0.0004795169538014186, 0.0003742446212542366, 0.0010233770575802344, 0.0006711089490313403, 0.0002805258686929815, 0.0005139514570401437, 0.0007194759399816299, 0.0008510107170616303, 0.0003024302081808581, 0.0006964257111086866, 0.00033085672039178245, 0.000981907740665408, 0.0005912648501915534, 0.001402361195952643, 0.0006416899546646046, 0.0011124946332434823, 0.0003984121025817624, 0.0005468553901074954, 0.0008548323673727582], \"locationmode\": \"USA-states\", \"text\": [\"AK<br>VETERINARIANS 5<br>ENGINEERS ALL OTHER 3<br>FOOD SERVICE MANAGERS 2\", \"AL<br>COMPUTER PROGRAMMERS 3<br>AEROSPACE ENGINEERS 2<br>BUSINESS TEACHERS POSTSECONDARY 2\", \"AR<br>COMPUTER PROGRAMMERS 5<br>DATABASE ADMINISTRATORS 5<br>CLINICAL COUNSELING AND SCHOOL PSYCHOLOGISTS 3\", \"AZ<br>COMPUTER SYSTEMS ANALYSTS 15<br>COMPUTER OCCUPATIONS ALL OTHER 10<br>SOFTWARE DEVELOPERS APPLICATIONS 8\", \"CA<br>SOFTWARE DEVELOPERS APPLICATIONS 297<br>COMPUTER SYSTEMS ANALYSTS 137<br>COMPUTER OCCUPATIONS ALL OTHER 98\", \"CO<br>SOFTWARE DEVELOPERS APPLICATIONS 12<br>SOFTWARE DEVELOPERS SYSTEMS SOFTWARE 9<br>COMPUTER PROGRAMMERS 7\", \"CT<br>COMPUTER OCCUPATIONS ALL OTHER 11<br>COMPUTER SYSTEMS ANALYSTS 9<br>ACCOUNTANTS AND AUDITORS 6\", \"DC<br>COMPUTER PROGRAMMERS 11<br>SOFTWARE DEVELOPERS APPLICATIONS 11<br>LAWYERS 6\", \"DE<br>SOFTWARE DEVELOPERS APPLICATIONS 7<br>COMPUTER SYSTEMS ANALYSTS 3<br>FINANCIAL ANALYSTS 3\", \"FL<br>SOFTWARE DEVELOPERS APPLICATIONS 29<br>COMPUTER SYSTEMS ANALYSTS 28<br>COMPUTER PROGRAMMERS 27\", \"GA<br>SOFTWARE DEVELOPERS APPLICATIONS 58<br>COMPUTER SYSTEMS ANALYSTS 40<br>COMPUTER PROGRAMMERS 36\", \"HI<br>ARCHITECTS EXCEPT LANDSCAPE AND NAVAL 6<br>ACCOUNTANTS AND AUDITORS 5<br>FARMERS RANCHERS AND OTHER AGRICULTURAL MANAGERS 2\", \"IA<br>SOFTWARE DEVELOPERS APPLICATIONS 9<br>COMPUTER PROGRAMMERS 4<br>COMPUTER SYSTEMS ANALYSTS 4\", \"ID<br>ENGINEERS ALL OTHER 3<br>HEALTH SPECIALTIES TEACHERS POSTSECONDARY 2<br>MEDICAL AND CLINICAL LABORATORY TECHNOLOGISTS 2\", \"IL<br>SOFTWARE DEVELOPERS APPLICATIONS 50<br>COMPUTER SYSTEMS ANALYSTS 40<br>COMPUTER PROGRAMMERS 24\", \"IN<br>SOFTWARE DEVELOPERS APPLICATIONS 10<br>PHYSICAL THERAPISTS 9<br>MECHANICAL ENGINEERS 5\", \"KS<br>HEALTH SPECIALTIES TEACHERS POSTSECONDARY 5<br>SOFTWARE DEVELOPERS APPLICATIONS 4<br>MEDICAL AND CLINICAL LABORATORY TECHNOLOGISTS 3\", \"KY<br>SOFTWARE DEVELOPERS APPLICATIONS 7<br>MARKET RESEARCH ANALYSTS AND MARKETING SPECIALISTS 3<br>COMPUTER OCCUPATIONS ALL OTHER 2\", \"LA<br>PSYCHIATRISTS 4<br>COMPUTER PROGRAMMERS 3<br>INTERNISTS GENERAL 3\", \"MA<br>SOFTWARE DEVELOPERS APPLICATIONS 43<br>COMPUTER OCCUPATIONS ALL OTHER 20<br>COMPUTER SYSTEMS ANALYSTS 19\", \"MD<br>COMPUTER SYSTEMS ANALYSTS 16<br>SOFTWARE DEVELOPERS APPLICATIONS 14<br>ACCOUNTANTS AND AUDITORS 8\", \"ME<br>COMPUTER SYSTEMS ANALYSTS 2<br>INDUSTRIAL PRODUCTION MANAGERS 2<br>INTERNISTS GENERAL 2\", \"MI<br>COMPUTER SYSTEMS ANALYSTS 83<br>SOFTWARE DEVELOPERS APPLICATIONS 37<br>MECHANICAL ENGINEERS 35\", \"MN<br>SOFTWARE DEVELOPERS APPLICATIONS 37<br>COMPUTER SYSTEMS ANALYSTS 16<br>COMPUTER OCCUPATIONS ALL OTHER 15\", \"MO<br>PHYSICIANS AND SURGEONS ALL OTHER 10<br>SOFTWARE DEVELOPERS APPLICATIONS 10<br>COMPUTER SYSTEMS ANALYSTS 8\", \"MS<br>SECONDARY SCHOOL TEACHERS EXCEPT SPECIAL AND 4<br>HEALTH SPECIALTIES TEACHERS POSTSECONDARY 3<br>MARKETING MANAGERS 2\", \"MT<br>BIOLOGICAL SCIENTISTS ALL OTHER 2<br>BIOLOGICAL TECHNICIANS 2<br>NETWORK AND COMPUTER SYSTEMS ADMINISTRATORS 1\", \"NC<br>SOFTWARE DEVELOPERS APPLICATIONS 32<br>COMPUTER PROGRAMMERS 15<br>COMPUTER SYSTEMS ANALYSTS 15\", \"ND<br>MEDIA AND COMMUNICATION WORKERS ALL OTHER 2<br>MEDICAL AND CLINICAL LABORATORY TECHNOLOGISTS 2<br>SOFTWARE DEVELOPERS APPLICATIONS 2\", \"NE<br>SOFTWARE DEVELOPERS APPLICATIONS 4<br>COMPUTER OCCUPATIONS ALL OTHER 3<br>COMPUTER SYSTEMS ANALYSTS 3\", \"NH<br>COMPUTER SYSTEMS ANALYSTS 2<br>ARCHITECTURAL AND CIVIL DRAFTERS 1<br>BUSINESS OPERATIONS SPECIALISTS ALL OTHER 1\", \"NJ<br>COMPUTER PROGRAMMERS 90<br>SOFTWARE DEVELOPERS APPLICATIONS 57<br>COMPUTER SYSTEMS ANALYSTS 48\", \"NM<br>DENTISTS GENERAL 4<br>PHYSICISTS 4<br>ELEMENTARY SCHOOL TEACHERS EXCEPT SPECIAL 2\", \"NV<br>CIVIL ENGINEERS 4<br>MARKET RESEARCH ANALYSTS AND MARKETING SPECIALISTS 4<br>ACCOUNTANTS AND AUDITORS 3\", \"NY<br>SOFTWARE DEVELOPERS APPLICATIONS 83<br>MARKET RESEARCH ANALYSTS AND MARKETING SPECIALISTS 67<br>FINANCIAL ANALYSTS 53\", \"OH<br>SOFTWARE DEVELOPERS APPLICATIONS 32<br>COMPUTER SYSTEMS ANALYSTS 28<br>COMPUTER OCCUPATIONS ALL OTHER 18\", \"OK<br>ELEMENTARY SCHOOL TEACHERS EXCEPT SPECIAL 6<br>HEAVY AND TRACTOR-TRAILER TRUCK DRIVERS 3<br>INTERPRETERS AND TRANSLATORS 2\", \"OR<br>SOFTWARE DEVELOPERS APPLICATIONS 12<br>OCCUPATIONAL THERAPISTS 5<br>COMPUTER SYSTEMS ANALYSTS 4\", \"PA<br>COMPUTER SYSTEMS ANALYSTS 35<br>SOFTWARE DEVELOPERS APPLICATIONS 32<br>COMPUTER PROGRAMMERS 25\", \"RI<br>COMPUTER OCCUPATIONS ALL OTHER 3<br>COMPUTER PROGRAMMERS 3<br>SOFTWARE DEVELOPERS APPLICATIONS 3\", \"SC<br>COMPUTER PROGRAMMERS 6<br>SOFTWARE DEVELOPERS APPLICATIONS 6<br>ACCOUNTANTS AND AUDITORS 3\", \"SD<br>MUSIC DIRECTORS AND COMPOSERS 3<br>MECHANICAL ENGINEERS 2<br>ACCOUNTANTS AND AUDITORS 1\", \"TN<br>COMPUTER SYSTEMS ANALYSTS 10<br>SOFTWARE DEVELOPERS APPLICATIONS 7<br>PHYSICIANS AND SURGEONS ALL OTHER 5\", \"TX<br>COMPUTER SYSTEMS ANALYSTS 123<br>SOFTWARE DEVELOPERS APPLICATIONS 89<br>COMPUTER PROGRAMMERS 62\", \"UT<br>CHIEF EXECUTIVES 9<br>SOFTWARE DEVELOPERS APPLICATIONS 5<br>INTERPRETERS AND TRANSLATORS 4\", \"VA<br>SOFTWARE DEVELOPERS APPLICATIONS 48<br>COMPUTER SYSTEMS ANALYSTS 44<br>COMPUTER PROGRAMMERS 26\", \"VT<br>COMPUTER SYSTEMS ANALYSTS 2<br>MARKETING MANAGERS 1<br>MEDICAL SCIENTISTS EXCEPT EPIDEMIOLOGISTS 1\", \"WA<br>SOFTWARE DEVELOPERS APPLICATIONS 41<br>COMPUTER SYSTEMS ANALYSTS 26<br>COMPUTER OCCUPATIONS ALL OTHER 14\", \"WI<br>SOFTWARE DEVELOPERS APPLICATIONS 11<br>COMPUTER PROGRAMMERS 6<br>DENTISTS GENERAL 6\", \"WV<br>MEDICAL AND HEALTH SERVICES MANAGERS 4<br>COST ESTIMATORS 3<br>SECONDARY SCHOOL TEACHERS EXCEPT SPECIAL AND 3\", \"WY<br>ARCHITECTURAL AND CIVIL DRAFTERS 2<br>COMPUTER NETWORK SUPPORT SPECIALISTS 2<br>ARCHITECTS EXCEPT LANDSCAPE AND NAVAL 1\"], \"marker\": {\"line\": {\"color\": \"rgb(255,255,255)\", \"width\": 2}}, \"colorbar\": {\"title\": \"%\"}}], {\"title\": \"2016 Percentage of H1B cases denied by state population\", \"geo\": {\"scope\": \"usa\", \"showlakes\": true, \"lakecolor\": \"rgb(85,173,240)\"}}, {\"showLink\": true, \"linkText\": \"Export to plot.ly\"})});</script>"
      ]
     },
     "metadata": {},
     "output_type": "display_data"
    }
   ],
   "source": [
    "geoplot_year(g1_census,2016,'CERTIFIED','PERCENT','accepted')\n",
    "geoplot_year(g1_census,2016,'DENIED','PERCENT','denied')"
   ]
  },
  {
   "cell_type": "code",
   "execution_count": 19,
   "metadata": {},
   "outputs": [
    {
     "name": "stderr",
     "output_type": "stream",
     "text": [
      "/Users/uyennguyen/anaconda3/lib/python3.6/site-packages/ipykernel_launcher.py:11: SettingWithCopyWarning:\n",
      "\n",
      "\n",
      "A value is trying to be set on a copy of a slice from a DataFrame.\n",
      "Try using .loc[row_indexer,col_indexer] = value instead\n",
      "\n",
      "See the caveats in the documentation: http://pandas.pydata.org/pandas-docs/stable/indexing.html#indexing-view-versus-copy\n",
      "\n"
     ]
    },
    {
     "data": {
      "application/vnd.plotly.v1+json": {
       "data": [
        {
         "colorbar": {
          "title": "%"
         },
         "colorscale": "YIOrRd",
         "locationmode": "USA-states",
         "locations": [
          "AK",
          "AL",
          "AR",
          "AZ",
          "CA",
          "CO",
          "CT",
          "DC",
          "DE",
          "FL",
          "GA",
          "HI",
          "IA",
          "ID",
          "IL",
          "IN",
          "KS",
          "KY",
          "LA",
          "MA",
          "MD",
          "ME",
          "MI",
          "MN",
          "MO",
          "MS",
          "MT",
          "NC",
          "ND",
          "NE",
          "NH",
          "NJ",
          "NM",
          "NV",
          "NY",
          "OH",
          "OK",
          "OR",
          "PA",
          "RI",
          "SC",
          "SD",
          "TN",
          "TX",
          "UT",
          "VA",
          "VT",
          "WA",
          "WI",
          "WV",
          "WY"
         ],
         "marker": {
          "line": {
           "color": "rgb(255,255,255)",
           "width": 2
          }
         },
         "text": [
          "AK",
          "AL",
          "AR",
          "AZ",
          "CA",
          "CO",
          "CT",
          "DC",
          "DE",
          "FL",
          "GA",
          "HI",
          "IA",
          "ID",
          "IL",
          "IN",
          "KS",
          "KY",
          "LA",
          "MA",
          "MD",
          "ME",
          "MI",
          "MN",
          "MO",
          "MS",
          "MT",
          "NC",
          "ND",
          "NE",
          "NH",
          "NJ",
          "NM",
          "NV",
          "NY",
          "OH",
          "OK",
          "OR",
          "PA",
          "RI",
          "SC",
          "SD",
          "TN",
          "TX",
          "UT",
          "VA",
          "VT",
          "WA",
          "WI",
          "WV",
          "WY"
         ],
         "type": "choropleth",
         "z": [
          0.006473172744706158,
          0.011994539706967018,
          0.051903617892994205,
          0.0575076838545115,
          0.11520371445012015,
          0.042024518521800225,
          0.1143355673644704,
          0.21845993780832806,
          0.1789654224108794,
          0.043574473985032086,
          0.12227520502015782,
          0.007909382277244147,
          0.034686855310777934,
          0.01809495805422059,
          0.12161368979051126,
          0.03200177509610707,
          0.038896307808390804,
          0.025472750581421167,
          0.01715691557069044,
          0.142795990633263,
          0.07550518261996511,
          0.020973785023965744,
          0.08686815097883967,
          0.08383634537244006,
          0.05663930905953136,
          0.00746964827335563,
          0.005391582968759628,
          0.08049867432191732,
          0.023161996325845608,
          0.04403431950987705,
          0.06734006734006734,
          0.2831568508298123,
          0.013330571315679437,
          0.01449347351402771,
          0.08109885086351347,
          0.06720553847286923,
          0.016219495680794206,
          0.039329523403024334,
          0.08621980693801598,
          0.09455674634018114,
          0.02326696401604735,
          0.01346423041476794,
          0.034724916699301174,
          0.11223133803707755,
          0.03274950309116548,
          0.12439419184776537,
          0.01636309384394742,
          0.16208085391242386,
          0.0516203506823327,
          0.008585629624687677,
          0.004274161836863791
         ]
        }
       ],
       "layout": {
        "geo": {
         "lakecolor": "rgb(85,173,240)",
         "scope": "usa",
         "showlakes": true
        },
        "title": "2016 Percentage of H1B cases Submitted by state population"
       }
      },
      "text/html": [
       "<div id=\"02f86306-e973-41e0-9b19-6785ddc11fb9\" style=\"height: 525px; width: 100%;\" class=\"plotly-graph-div\"></div><script type=\"text/javascript\">require([\"plotly\"], function(Plotly) { window.PLOTLYENV=window.PLOTLYENV || {};window.PLOTLYENV.BASE_URL=\"https://plot.ly\";Plotly.newPlot(\"02f86306-e973-41e0-9b19-6785ddc11fb9\", [{\"type\": \"choropleth\", \"colorscale\": \"YIOrRd\", \"locations\": [\"AK\", \"AL\", \"AR\", \"AZ\", \"CA\", \"CO\", \"CT\", \"DC\", \"DE\", \"FL\", \"GA\", \"HI\", \"IA\", \"ID\", \"IL\", \"IN\", \"KS\", \"KY\", \"LA\", \"MA\", \"MD\", \"ME\", \"MI\", \"MN\", \"MO\", \"MS\", \"MT\", \"NC\", \"ND\", \"NE\", \"NH\", \"NJ\", \"NM\", \"NV\", \"NY\", \"OH\", \"OK\", \"OR\", \"PA\", \"RI\", \"SC\", \"SD\", \"TN\", \"TX\", \"UT\", \"VA\", \"VT\", \"WA\", \"WI\", \"WV\", \"WY\"], \"z\": [0.006473172744706158, 0.011994539706967018, 0.051903617892994205, 0.0575076838545115, 0.11520371445012015, 0.042024518521800225, 0.1143355673644704, 0.21845993780832806, 0.1789654224108794, 0.043574473985032086, 0.12227520502015782, 0.007909382277244147, 0.034686855310777934, 0.01809495805422059, 0.12161368979051126, 0.03200177509610707, 0.038896307808390804, 0.025472750581421167, 0.01715691557069044, 0.142795990633263, 0.07550518261996511, 0.020973785023965744, 0.08686815097883967, 0.08383634537244006, 0.05663930905953136, 0.00746964827335563, 0.005391582968759628, 0.08049867432191732, 0.023161996325845608, 0.04403431950987705, 0.06734006734006734, 0.2831568508298123, 0.013330571315679437, 0.01449347351402771, 0.08109885086351347, 0.06720553847286923, 0.016219495680794206, 0.039329523403024334, 0.08621980693801598, 0.09455674634018114, 0.02326696401604735, 0.01346423041476794, 0.034724916699301174, 0.11223133803707755, 0.03274950309116548, 0.12439419184776537, 0.01636309384394742, 0.16208085391242386, 0.0516203506823327, 0.008585629624687677, 0.004274161836863791], \"locationmode\": \"USA-states\", \"text\": [\"AK\", \"AL\", \"AR\", \"AZ\", \"CA\", \"CO\", \"CT\", \"DC\", \"DE\", \"FL\", \"GA\", \"HI\", \"IA\", \"ID\", \"IL\", \"IN\", \"KS\", \"KY\", \"LA\", \"MA\", \"MD\", \"ME\", \"MI\", \"MN\", \"MO\", \"MS\", \"MT\", \"NC\", \"ND\", \"NE\", \"NH\", \"NJ\", \"NM\", \"NV\", \"NY\", \"OH\", \"OK\", \"OR\", \"PA\", \"RI\", \"SC\", \"SD\", \"TN\", \"TX\", \"UT\", \"VA\", \"VT\", \"WA\", \"WI\", \"WV\", \"WY\"], \"marker\": {\"line\": {\"color\": \"rgb(255,255,255)\", \"width\": 2}}, \"colorbar\": {\"title\": \"%\"}}], {\"title\": \"2016 Percentage of H1B cases Submitted by state population\", \"geo\": {\"scope\": \"usa\", \"showlakes\": true, \"lakecolor\": \"rgb(85,173,240)\"}}, {\"showLink\": true, \"linkText\": \"Export to plot.ly\"})});</script>"
      ],
      "text/vnd.plotly.v1+html": [
       "<div id=\"02f86306-e973-41e0-9b19-6785ddc11fb9\" style=\"height: 525px; width: 100%;\" class=\"plotly-graph-div\"></div><script type=\"text/javascript\">require([\"plotly\"], function(Plotly) { window.PLOTLYENV=window.PLOTLYENV || {};window.PLOTLYENV.BASE_URL=\"https://plot.ly\";Plotly.newPlot(\"02f86306-e973-41e0-9b19-6785ddc11fb9\", [{\"type\": \"choropleth\", \"colorscale\": \"YIOrRd\", \"locations\": [\"AK\", \"AL\", \"AR\", \"AZ\", \"CA\", \"CO\", \"CT\", \"DC\", \"DE\", \"FL\", \"GA\", \"HI\", \"IA\", \"ID\", \"IL\", \"IN\", \"KS\", \"KY\", \"LA\", \"MA\", \"MD\", \"ME\", \"MI\", \"MN\", \"MO\", \"MS\", \"MT\", \"NC\", \"ND\", \"NE\", \"NH\", \"NJ\", \"NM\", \"NV\", \"NY\", \"OH\", \"OK\", \"OR\", \"PA\", \"RI\", \"SC\", \"SD\", \"TN\", \"TX\", \"UT\", \"VA\", \"VT\", \"WA\", \"WI\", \"WV\", \"WY\"], \"z\": [0.006473172744706158, 0.011994539706967018, 0.051903617892994205, 0.0575076838545115, 0.11520371445012015, 0.042024518521800225, 0.1143355673644704, 0.21845993780832806, 0.1789654224108794, 0.043574473985032086, 0.12227520502015782, 0.007909382277244147, 0.034686855310777934, 0.01809495805422059, 0.12161368979051126, 0.03200177509610707, 0.038896307808390804, 0.025472750581421167, 0.01715691557069044, 0.142795990633263, 0.07550518261996511, 0.020973785023965744, 0.08686815097883967, 0.08383634537244006, 0.05663930905953136, 0.00746964827335563, 0.005391582968759628, 0.08049867432191732, 0.023161996325845608, 0.04403431950987705, 0.06734006734006734, 0.2831568508298123, 0.013330571315679437, 0.01449347351402771, 0.08109885086351347, 0.06720553847286923, 0.016219495680794206, 0.039329523403024334, 0.08621980693801598, 0.09455674634018114, 0.02326696401604735, 0.01346423041476794, 0.034724916699301174, 0.11223133803707755, 0.03274950309116548, 0.12439419184776537, 0.01636309384394742, 0.16208085391242386, 0.0516203506823327, 0.008585629624687677, 0.004274161836863791], \"locationmode\": \"USA-states\", \"text\": [\"AK\", \"AL\", \"AR\", \"AZ\", \"CA\", \"CO\", \"CT\", \"DC\", \"DE\", \"FL\", \"GA\", \"HI\", \"IA\", \"ID\", \"IL\", \"IN\", \"KS\", \"KY\", \"LA\", \"MA\", \"MD\", \"ME\", \"MI\", \"MN\", \"MO\", \"MS\", \"MT\", \"NC\", \"ND\", \"NE\", \"NH\", \"NJ\", \"NM\", \"NV\", \"NY\", \"OH\", \"OK\", \"OR\", \"PA\", \"RI\", \"SC\", \"SD\", \"TN\", \"TX\", \"UT\", \"VA\", \"VT\", \"WA\", \"WI\", \"WV\", \"WY\"], \"marker\": {\"line\": {\"color\": \"rgb(255,255,255)\", \"width\": 2}}, \"colorbar\": {\"title\": \"%\"}}], {\"title\": \"2016 Percentage of H1B cases Submitted by state population\", \"geo\": {\"scope\": \"usa\", \"showlakes\": true, \"lakecolor\": \"rgb(85,173,240)\"}}, {\"showLink\": true, \"linkText\": \"Export to plot.ly\"})});</script>"
      ]
     },
     "metadata": {},
     "output_type": "display_data"
    }
   ],
   "source": [
    "# Plot the % of total H1B cases in each state (normalized to state population)\n",
    "geoplot_year(total,2016,'Null','PERCENT','Submitted')"
   ]
  },
  {
   "cell_type": "markdown",
   "metadata": {},
   "source": [
    "# Build the predictor\n",
    "Given a set of features, this will predict how likely a case will be accepted.\n",
    "Due to a mix of categorical and continuous variables, a tree-based model is chosen.\n",
    "Label encoder is applied to deal with categorical features.\n",
    "Two classes of CASE STATUS are predicted (CERTIFIED = 0 and DENIED = 1)"
   ]
  },
  {
   "cell_type": "code",
   "execution_count": 297,
   "metadata": {
    "collapsed": true
   },
   "outputs": [],
   "source": [
    "from sklearn.model_selection import train_test_split\n",
    "from sklearn.ensemble import RandomForestClassifier\n",
    "from sklearn.tree import DecisionTreeClassifier\n",
    "from sklearn.metrics import confusion_matrix, classification_report, roc_auc_score, roc_curve\n",
    "import itertools\n",
    "from imblearn.over_sampling import RandomOverSampler\n"
   ]
  },
  {
   "cell_type": "markdown",
   "metadata": {},
   "source": [
    "## Functions to plot classification metrics"
   ]
  },
  {
   "cell_type": "code",
   "execution_count": 355,
   "metadata": {
    "collapsed": true
   },
   "outputs": [],
   "source": [
    "def plot_confusion_matrix(cm, y_test,model_pred, classes,\n",
    "                          normalize=False,\n",
    "                          title='Confusion matrix',\n",
    "                          cmap=plt.cm.Blues):\n",
    "    \"\"\"\n",
    "    This function prints and plots the confusion matrix.\n",
    "    Normalization can be applied by setting `normalize=True`.\n",
    "    \"\"\"\n",
    "    print('Classification report','\\n',classification_report(y_test,model_pred))\n",
    "    print('\\n')\n",
    "    \n",
    "    if normalize:\n",
    "        cm = cm.astype('float') / cm.sum(axis=1)[:, np.newaxis]\n",
    "\n",
    "    plt.imshow(cm, interpolation='nearest', cmap=cmap)\n",
    "    plt.title(title)\n",
    "    plt.colorbar()\n",
    "    tick_marks = np.arange(len(classes))\n",
    "    plt.xticks(tick_marks, classes, rotation=45)\n",
    "    plt.yticks(tick_marks, classes)\n",
    "\n",
    "    fmt = '.2f' if normalize else 'd'\n",
    "    thresh = cm.max() / 2.\n",
    "    for i, j in itertools.product(range(cm.shape[0]), range(cm.shape[1])):\n",
    "        plt.text(j, i, format(cm[i, j], fmt),\n",
    "                 horizontalalignment=\"center\",\n",
    "                 color=\"white\" if cm[i, j] > thresh else \"black\")\n",
    "\n",
    "    plt.tight_layout()\n",
    "    plt.ylabel('True label')\n",
    "    plt.xlabel('Predicted label')"
   ]
  },
  {
   "cell_type": "code",
   "execution_count": 351,
   "metadata": {
    "collapsed": true
   },
   "outputs": [],
   "source": [
    "def plot_feature_importance(model):\n",
    "    \n",
    "    fig = plt.figure(figsize=(18, 10))\n",
    "    ax = fig.add_subplot(111)\n",
    "    \n",
    "    #If the model used is tree-based\n",
    "    df_f = pd.DataFrame(model.feature_importances_, columns=[\"importance\"])\n",
    "           \n",
    "    # Display table and plot of the feature importance \n",
    "    df_f[\"labels\"] = features\n",
    "    df_f.sort_values(\"importance\", inplace=True, ascending=False)\n",
    "    display(df_f.head(5))\n",
    "    index = np.arange(df_f.shape[0])\n",
    "\n",
    "    bar_width = 0.5\n",
    "    rects = plt.barh(index , df_f[\"importance\"], bar_width, alpha=0.4, color='b', label='Main')\n",
    "    plt.yticks(index, df_f[\"labels\"],fontsize=30)\n",
    "    plt.xticks(fontsize=30)"
   ]
  },
  {
   "cell_type": "code",
   "execution_count": 353,
   "metadata": {
    "collapsed": true
   },
   "outputs": [],
   "source": [
    "def plot_ROC(model,y_test,model_pred):\n",
    "    \"\"\"\n",
    "    This function plots the ROC curve and print out AUC\n",
    "    \"\"\"\n",
    "    probs = model.predict_proba(X_test)\n",
    "    cm = pd.DataFrame(confusion_matrix(y_test, model_pred),\n",
    "                                columns=[\"Predicted False\", \"Predicted True\"], \n",
    "                                index=[\"Actual False\", \"Actual True\"])\n",
    "    display(cm)\n",
    "\n",
    "    # Calculate the fpr and tpr for all thresholds of the classification\n",
    "    plt.figure(figsize=(10,6))\n",
    "    fpr, tpr, threshold = roc_curve(y_test, probs[:,1])\n",
    "    plt.title('Receiver Operating Characteristic')\n",
    "    plt.plot(fpr, tpr, 'b')\n",
    "    plt.plot([0, 1], [0, 1],'r--')\n",
    "    plt.xlim([0, 1])\n",
    "    plt.ylim([0, 1])\n",
    "    plt.ylabel('True Positive Rate',fontsize=14)\n",
    "    plt.xlabel('False Positive Rate',fontsize=14)\n",
    "    print('Area under the curve is %f' %roc_auc_score(y_test,model_pred))"
   ]
  },
  {
   "cell_type": "code",
   "execution_count": 303,
   "metadata": {},
   "outputs": [
    {
     "data": {
      "text/plain": [
       "Index(['Unnamed: 0', 'CASE_STATUS', 'EMPLOYER_NAME', 'SOC_NAME', 'JOB_TITLE',\n",
       "       'FULL_TIME_POSITION', 'PREVAILING_WAGE', 'YEAR', 'WORKSITE', 'lon',\n",
       "       'lat', 'STATE', 'CODE', 'col'],\n",
       "      dtype='object')"
      ]
     },
     "execution_count": 303,
     "metadata": {},
     "output_type": "execute_result"
    }
   ],
   "source": [
    "sub_df.columns"
   ]
  },
  {
   "cell_type": "code",
   "execution_count": 323,
   "metadata": {
    "collapsed": true
   },
   "outputs": [],
   "source": [
    "# Convert the categorical feature to numeric feature\n",
    "def label_encoder(df,col):\n",
    "    df[col] = df[col].astype('category')\n",
    "    df[col] = df[col].cat.codes\n",
    "\n",
    "cols = ['CASE_STATUS','CODE','SOC_NAME','FULL_TIME_POSITION','EMPLOYER_NAME','JOB_TITLE']\n",
    "for col in cols:\n",
    "    label_encoder(sub_df,col)"
   ]
  },
  {
   "cell_type": "code",
   "execution_count": 333,
   "metadata": {
    "collapsed": true
   },
   "outputs": [],
   "source": [
    "sub_df.dropna(inplace=True)"
   ]
  },
  {
   "cell_type": "code",
   "execution_count": 367,
   "metadata": {
    "collapsed": true
   },
   "outputs": [],
   "source": [
    "# Prepare to build model, start with train, test splitting\n",
    "X = sub_df[['CODE','SOC_NAME','FULL_TIME_POSITION','EMPLOYER_NAME','JOB_TITLE','PREVAILING_WAGE']]\n",
    "y = sub_df['CASE_STATUS']\n",
    "features = X.columns\n",
    "\n",
    "X_train, X_test, y_train, y_test = train_test_split(X, y, test_size=0.2, random_state=101)"
   ]
  },
  {
   "cell_type": "code",
   "execution_count": 368,
   "metadata": {
    "collapsed": true
   },
   "outputs": [],
   "source": [
    "# Oversampling the minor class (status = 1, denied)\n",
    "ros = RandomOverSampler(random_state=0)\n",
    "X_resampled, y_resampled = ros.fit_sample(X_train, y_train)"
   ]
  },
  {
   "cell_type": "code",
   "execution_count": 369,
   "metadata": {
    "collapsed": true
   },
   "outputs": [],
   "source": [
    "dtree = DecisionTreeClassifier()\n",
    "dtree.fit(X_resampled,y_resampled)\n",
    "dtree_pred = dtree.predict(X_test)"
   ]
  },
  {
   "cell_type": "code",
   "execution_count": 370,
   "metadata": {},
   "outputs": [
    {
     "data": {
      "text/html": [
       "<div>\n",
       "<style>\n",
       "    .dataframe thead tr:only-child th {\n",
       "        text-align: right;\n",
       "    }\n",
       "\n",
       "    .dataframe thead th {\n",
       "        text-align: left;\n",
       "    }\n",
       "\n",
       "    .dataframe tbody tr th {\n",
       "        vertical-align: top;\n",
       "    }\n",
       "</style>\n",
       "<table border=\"1\" class=\"dataframe\">\n",
       "  <thead>\n",
       "    <tr style=\"text-align: right;\">\n",
       "      <th></th>\n",
       "      <th>importance</th>\n",
       "      <th>labels</th>\n",
       "    </tr>\n",
       "  </thead>\n",
       "  <tbody>\n",
       "    <tr>\n",
       "      <th>5</th>\n",
       "      <td>0.288879</td>\n",
       "      <td>PREVAILING_WAGE</td>\n",
       "    </tr>\n",
       "    <tr>\n",
       "      <th>3</th>\n",
       "      <td>0.264303</td>\n",
       "      <td>EMPLOYER_NAME</td>\n",
       "    </tr>\n",
       "    <tr>\n",
       "      <th>4</th>\n",
       "      <td>0.189793</td>\n",
       "      <td>JOB_TITLE</td>\n",
       "    </tr>\n",
       "    <tr>\n",
       "      <th>1</th>\n",
       "      <td>0.151803</td>\n",
       "      <td>SOC_NAME</td>\n",
       "    </tr>\n",
       "    <tr>\n",
       "      <th>0</th>\n",
       "      <td>0.094844</td>\n",
       "      <td>CODE</td>\n",
       "    </tr>\n",
       "  </tbody>\n",
       "</table>\n",
       "</div>"
      ],
      "text/plain": [
       "   importance           labels\n",
       "5    0.288879  PREVAILING_WAGE\n",
       "3    0.264303    EMPLOYER_NAME\n",
       "4    0.189793        JOB_TITLE\n",
       "1    0.151803         SOC_NAME\n",
       "0    0.094844             CODE"
      ]
     },
     "metadata": {},
     "output_type": "display_data"
    },
    {
     "data": {
      "image/png": "[encoded data removed]",
      "text/plain": [
       "<matplotlib.figure.Figure at 0x1a223cfbe0>"
      ]
     },
     "metadata": {},
     "output_type": "display_data"
    }
   ],
   "source": [
    "plot_feature_importance(dtree)"
   ]
  },
  {
   "cell_type": "code",
   "execution_count": 371,
   "metadata": {},
   "outputs": [
    {
     "data": {
      "text/html": [
       "<div>\n",
       "<style>\n",
       "    .dataframe thead tr:only-child th {\n",
       "        text-align: right;\n",
       "    }\n",
       "\n",
       "    .dataframe thead th {\n",
       "        text-align: left;\n",
       "    }\n",
       "\n",
       "    .dataframe tbody tr th {\n",
       "        vertical-align: top;\n",
       "    }\n",
       "</style>\n",
       "<table border=\"1\" class=\"dataframe\">\n",
       "  <thead>\n",
       "    <tr style=\"text-align: right;\">\n",
       "      <th></th>\n",
       "      <th>Predicted False</th>\n",
       "      <th>Predicted True</th>\n",
       "    </tr>\n",
       "  </thead>\n",
       "  <tbody>\n",
       "    <tr>\n",
       "      <th>Actual False</th>\n",
       "      <td>478600</td>\n",
       "      <td>26896</td>\n",
       "    </tr>\n",
       "    <tr>\n",
       "      <th>Actual True</th>\n",
       "      <td>13035</td>\n",
       "      <td>4040</td>\n",
       "    </tr>\n",
       "  </tbody>\n",
       "</table>\n",
       "</div>"
      ],
      "text/plain": [
       "              Predicted False  Predicted True\n",
       "Actual False           478600           26896\n",
       "Actual True             13035            4040"
      ]
     },
     "metadata": {},
     "output_type": "display_data"
    },
    {
     "name": "stdout",
     "output_type": "stream",
     "text": [
      "Area under the curve is 0.591698\n"
     ]
    },
    {
     "data": {
      "image/png": "[encoded data removed]",
      "text/plain": [
       "<matplotlib.figure.Figure at 0x1a22419a20>"
      ]
     },
     "metadata": {},
     "output_type": "display_data"
    }
   ],
   "source": [
    "plot_ROC(dtree,y_test,dtree_pred)"
   ]
  },
  {
   "cell_type": "code",
   "execution_count": 372,
   "metadata": {},
   "outputs": [
    {
     "name": "stdout",
     "output_type": "stream",
     "text": [
      "Classification report \n",
      "              precision    recall  f1-score   support\n",
      "\n",
      "          0       0.97      0.95      0.96    505496\n",
      "          1       0.13      0.24      0.17     17075\n",
      "\n",
      "avg / total       0.95      0.92      0.93    522571\n",
      "\n",
      "\n",
      "\n"
     ]
    },
    {
     "data": {
      "image/png": "[encoded data removed]",
      "text/plain": [
       "<matplotlib.figure.Figure at 0x1a22419080>"
      ]
     },
     "metadata": {},
     "output_type": "display_data"
    }
   ],
   "source": [
    "cm = confusion_matrix(y_test,dtree_pred)\n",
    "target_names = ['0','1']\n",
    "plot_confusion_matrix(cm, y_test,dtree_pred,classes=target_names,title='Confusion matrix')"
   ]
  },
  {
   "cell_type": "code",
   "execution_count": null,
   "metadata": {
    "collapsed": true
   },
   "outputs": [],
   "source": []
  }
 ],
 "metadata": {
  "kernelspec": {
   "display_name": "Python 3",
   "language": "python",
   "name": "python3"
  },
  "language_info": {
   "codemirror_mode": {
    "name": "ipython",
    "version": 3
   },
   "file_extension": ".py",
   "mimetype": "text/x-python",
   "name": "python",
   "nbconvert_exporter": "python",
   "pygments_lexer": "ipython3",
   "version": "3.6.3"
  }
 },
 "nbformat": 4,
 "nbformat_minor": 2
}
